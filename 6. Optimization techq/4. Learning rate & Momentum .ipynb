{
 "cells": [
  {
   "cell_type": "markdown",
   "metadata": {},
   "source": [
    "# Learning rate & Momentum\n",
    "* **Learning rate** controls how much to update the weight at the end of each batch \n",
    "    -  [0.001, 0.01, 0.1, 0.2, 0.3]\n",
    "    - Try a learning rate that decreases over epochs.\n",
    "    - Try a learning rate that drops every fixed number of epochs by a percentage.\n",
    "    - Try adding a momentum term then grid search learning rate and momentum together.\n",
    "    \n",
    "* **momentum** controls how much to let the previous update influence the current weight update.\n",
    "    -  [0.0, 0.2, 0.4, 0.6, 0.8, 0.9]\n",
    "    \n",
    "\n",
    "* Generally, it is a good idea to also include the \n",
    "  -  number of epochs in an optimization like this as dependency between the amount of learning per batch (learning rate), \n",
    "  -  the number of updates per epoch (batch size) and the number of epochs."
   ]
  },
  {
   "cell_type": "markdown",
   "metadata": {},
   "source": [
    "# Need for such technique\n",
    "\n",
    "* ANNs useuse random initial weights and random shuffling of data during each training epoch during stochastic gradient descent.\n",
    "\n",
    "**Deep learning models are stochastic**\n",
    "\n",
    "* This means that each time the same model is fit on the same data, it may give different predictions and in turn have different overall skill."
   ]
  },
  {
   "cell_type": "markdown",
   "metadata": {},
   "source": [
    "# same as prev diffrence in below create_model() takes parameter"
   ]
  },
  {
   "cell_type": "code",
   "execution_count": 1,
   "metadata": {},
   "outputs": [],
   "source": [
    "def create_model(learn_rate=0.01, momentum=0):\n",
    "\t# create model\n",
    "\tmodel = Sequential()\n",
    "\tmodel.add(Dense(12, input_dim=8, activation='relu'))\n",
    "\tmodel.add(Dense(1, activation='sigmoid'))\n",
    "\t# Compile model\n",
    "\toptimizer = SGD(lr=learn_rate, momentum=momentum)\n",
    "\tmodel.compile(loss='binary_crossentropy', optimizer=optimizer, metrics=['accuracy'])\n",
    "\treturn model"
   ]
  },
  {
   "cell_type": "markdown",
   "metadata": {},
   "source": [
    "# Mapping param_grid to GridSearchCV"
   ]
  },
  {
   "cell_type": "code",
   "execution_count": 7,
   "metadata": {},
   "outputs": [
    {
     "name": "stdout",
     "output_type": "stream",
     "text": [
      "0.7031250039581209\n",
      "Wall time: 4min 23s\n"
     ]
    }
   ],
   "source": [
    "model = KerasClassifier(build_fn=create_model, epochs=100, batch_size=10, verbose=0)\n",
    "# define the grid search parameters\n",
    "learn_rate = [0.001, 0.01, 0.1, 0.2, 0.3]\n",
    "momentum = [0.0, 0.2, 0.4, 0.6, 0.8, 0.9]\n",
    "param_grid = dict(learn_rate=learn_rate, momentum=momentum)\n",
    "grid = GridSearchCV(estimator=model, param_grid=param_grid, n_jobs=-1)\n",
    "grid_result = grid.fit(X, Y)"
   ]
  },
  {
   "cell_type": "code",
   "execution_count": 8,
   "metadata": {},
   "outputs": [
    {
     "data": {
      "text/plain": [
       "array([0.71354167, 0.69270834])"
      ]
     },
     "execution_count": 8,
     "metadata": {},
     "output_type": "execute_result"
    }
   ],
   "source": [
    "results"
   ]
  },
  {
   "cell_type": "code",
   "execution_count": null,
   "metadata": {},
   "outputs": [],
   "source": []
  }
 ],
 "metadata": {
  "kernelspec": {
   "display_name": "Python 3",
   "language": "python",
   "name": "python3"
  },
  "language_info": {
   "codemirror_mode": {
    "name": "ipython",
    "version": 3
   },
   "file_extension": ".py",
   "mimetype": "text/x-python",
   "name": "python",
   "nbconvert_exporter": "python",
   "pygments_lexer": "ipython3",
   "version": "3.7.1"
  }
 },
 "nbformat": 4,
 "nbformat_minor": 2
}
