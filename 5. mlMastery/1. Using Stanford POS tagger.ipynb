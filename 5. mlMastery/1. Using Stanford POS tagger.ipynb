{
 "cells": [
  {
   "cell_type": "code",
   "execution_count": 1,
   "metadata": {},
   "outputs": [
    {
     "name": "stderr",
     "output_type": "stream",
     "text": [
      "c:\\users\\me\\appdata\\local\\programs\\python\\python37\\lib\\site-packages\\matplotlib\\__init__.py:886: MatplotlibDeprecationWarning: \n",
      "examples.directory is deprecated; in the future, examples will be found relative to the 'datapath' directory.\n",
      "  \"found relative to the 'datapath' directory.\".format(key))\n"
     ]
    }
   ],
   "source": [
    "import os\n",
    "from tqdm import tqdm\n",
    "import pandas as pd \n",
    "import numpy as np\n",
    "\n",
    "import re\n",
    "import string\n",
    "from textblob import TextBlob\n",
    "from nltk.corpus import stopwords\n",
    "from nltk.tokenize import sent_tokenize, word_tokenize\n",
    "\n",
    "#Lemmatizing and POSTagging\n",
    "\n",
    "from nltk import pos_tag\n",
    "from nltk.tag.stanford import StanfordPOSTagger\n",
    "from nltk.corpus import wordnet\n",
    "from nltk.stem import WordNetLemmatizer\n",
    "nltk_lemmatizer = WordNetLemmatizer()\n",
    "\n",
    "from sklearn.feature_extraction.text import TfidfVectorizer #CountVectorizer()\n",
    "from sklearn.model_selection import train_test_split\n",
    "\n",
    "\n",
    "import matplotlib.pyplot as plt\n",
    "import seaborn as sns\n",
    "from wordcloud import WordCloud\n",
    "%matplotlib inline\n",
    "\n",
    "import pickle\n",
    "\n"
   ]
  },
  {
   "cell_type": "markdown",
   "metadata": {},
   "source": [
    "# Initializing and decalring constant\n",
    "* Stanford POS tagger importing"
   ]
  },
  {
   "cell_type": "code",
   "execution_count": 2,
   "metadata": {},
   "outputs": [],
   "source": [
    "java_path = \"C:/Program Files/Java/jdk1.8.0_201/bin/java.exe\"\n",
    "os.environ['JAVAHOME'] = java_path\n",
    "#os.environ['STANFORD_POSTAGGER'] = \"C:/Users/Me/Documents/stanford-postagger-full-2018-10-16\"\n",
    "os.environ['STANFORD_POSTAGGER'] = \"D:/NLP/Library file/stanford-postagger-full-2018-10-16\"\n",
    "Stanford_postagger = StanfordPOSTagger(os.environ['STANFORD_POSTAGGER'] +'/models/english-bidirectional-distsim.tagger',os.environ['STANFORD_POSTAGGER']+'/stanford-postagger.jar')\n",
    "\n",
    "tqdm.pandas() \n",
    "\n",
    "punct = set(string.punctuation)\n",
    "stopWords = set(stopwords.words('english'))\n",
    "\n",
    "# shuffle entier dataset\n",
    "# preprocess\n",
    "#before feeding to model to test/ valid/ train split\n"
   ]
  },
  {
   "cell_type": "markdown",
   "metadata": {},
   "source": [
    "# Load dataset propely"
   ]
  },
  {
   "cell_type": "code",
   "execution_count": 3,
   "metadata": {},
   "outputs": [],
   "source": [
    "# storing base  path to dataset directory\n",
    "BASE_PATH = \"C:/Users/Me/Desktop/ppr red/andrew/nlp/mlMastery/txt_sentoken\"\n",
    "CATAGORIES = [\"neg\",\"pos\"]\n",
    "\n",
    "df =pd.DataFrame({\"review\": [] ,\"sentiment\": []})\n",
    "\n",
    "for catagorie in CATAGORIES :\n",
    "    path = os.path.join(BASE_PATH,catagorie) #full path to folder\n",
    "    ALL_DOCS = os.listdir(path) # storing all files in that path\n",
    "    for doc in ALL_DOCS:\n",
    "        if doc.endswith(\".txt\"):\n",
    "            file =  open( os.path.join( path, doc) , 'r')\n",
    "            df = df.append(pd.DataFrame({'review':file.read(), 'sentiment':CATAGORIES.index(catagorie)}, index=[0]),ignore_index=True)"
   ]
  },
  {
   "cell_type": "markdown",
   "metadata": {},
   "source": [
    "# neg = 0 and pos = 1"
   ]
  },
  {
   "cell_type": "markdown",
   "metadata": {},
   "source": [
    "# TODO's\n",
    "* Every row is not null\n",
    "* columns, no need to drop columns\n",
    "* check for dublicates in review"
   ]
  },
  {
   "cell_type": "code",
   "execution_count": 4,
   "metadata": {},
   "outputs": [
    {
     "name": "stdout",
     "output_type": "stream",
     "text": [
      "<class 'pandas.core.frame.DataFrame'>\n",
      "RangeIndex: 2000 entries, 0 to 1999\n",
      "Data columns (total 2 columns):\n",
      "review       2000 non-null object\n",
      "sentiment    2000 non-null float64\n",
      "dtypes: float64(1), object(1)\n",
      "memory usage: 31.3+ KB\n"
     ]
    }
   ],
   "source": [
    "df.info()"
   ]
  },
  {
   "cell_type": "code",
   "execution_count": 5,
   "metadata": {},
   "outputs": [
    {
     "data": {
      "text/plain": [
       "0"
      ]
     },
     "execution_count": 5,
     "metadata": {},
     "output_type": "execute_result"
    }
   ],
   "source": [
    "len(df[df.duplicated(subset=[\"review\"])])"
   ]
  },
  {
   "cell_type": "code",
   "execution_count": 6,
   "metadata": {},
   "outputs": [],
   "source": [
    "#  overall avg length of text review , before / after  any pre processing\n",
    "def word_count_in_review(review):\n",
    "    tokens = word_tokenize(review)\n",
    "    return len(tokens)  "
   ]
  },
  {
   "cell_type": "code",
   "execution_count": 7,
   "metadata": {},
   "outputs": [
    {
     "name": "stdout",
     "output_type": "stream",
     "text": [
      "Wall time: 9.77 s\n"
     ]
    }
   ],
   "source": [
    "%%time\n",
    "df[\"word_count\"] = df[\"review\"].apply(lambda x : word_count_in_review(x))"
   ]
  },
  {
   "cell_type": "code",
   "execution_count": 8,
   "metadata": {},
   "outputs": [
    {
     "data": {
      "text/html": [
       "<div>\n",
       "<style scoped>\n",
       "    .dataframe tbody tr th:only-of-type {\n",
       "        vertical-align: middle;\n",
       "    }\n",
       "\n",
       "    .dataframe tbody tr th {\n",
       "        vertical-align: top;\n",
       "    }\n",
       "\n",
       "    .dataframe thead th {\n",
       "        text-align: right;\n",
       "    }\n",
       "</style>\n",
       "<table border=\"1\" class=\"dataframe\">\n",
       "  <thead>\n",
       "    <tr style=\"text-align: right;\">\n",
       "      <th></th>\n",
       "      <th>review</th>\n",
       "      <th>sentiment</th>\n",
       "      <th>word_count</th>\n",
       "    </tr>\n",
       "  </thead>\n",
       "  <tbody>\n",
       "    <tr>\n",
       "      <th>0</th>\n",
       "      <td>plot : two teen couples go to a church party ,...</td>\n",
       "      <td>0.0</td>\n",
       "      <td>841</td>\n",
       "    </tr>\n",
       "    <tr>\n",
       "      <th>1</th>\n",
       "      <td>the happy bastard's quick movie review \\ndamn ...</td>\n",
       "      <td>0.0</td>\n",
       "      <td>291</td>\n",
       "    </tr>\n",
       "    <tr>\n",
       "      <th>2</th>\n",
       "      <td>it is movies like these that make a jaded movi...</td>\n",
       "      <td>0.0</td>\n",
       "      <td>561</td>\n",
       "    </tr>\n",
       "    <tr>\n",
       "      <th>3</th>\n",
       "      <td>\" quest for camelot \" is warner bros . ' firs...</td>\n",
       "      <td>0.0</td>\n",
       "      <td>574</td>\n",
       "    </tr>\n",
       "    <tr>\n",
       "      <th>4</th>\n",
       "      <td>synopsis : a mentally unstable man undergoing ...</td>\n",
       "      <td>0.0</td>\n",
       "      <td>855</td>\n",
       "    </tr>\n",
       "  </tbody>\n",
       "</table>\n",
       "</div>"
      ],
      "text/plain": [
       "                                              review  sentiment  word_count\n",
       "0  plot : two teen couples go to a church party ,...        0.0         841\n",
       "1  the happy bastard's quick movie review \\ndamn ...        0.0         291\n",
       "2  it is movies like these that make a jaded movi...        0.0         561\n",
       "3   \" quest for camelot \" is warner bros . ' firs...        0.0         574\n",
       "4  synopsis : a mentally unstable man undergoing ...        0.0         855"
      ]
     },
     "execution_count": 8,
     "metadata": {},
     "output_type": "execute_result"
    }
   ],
   "source": [
    "df.head()"
   ]
  },
  {
   "cell_type": "markdown",
   "metadata": {},
   "source": [
    "# Freq dist plot and Statistics of text data"
   ]
  },
  {
   "cell_type": "code",
   "execution_count": 9,
   "metadata": {},
   "outputs": [],
   "source": [
    "#freq distribution lenght of data\n",
    "def stats_of_freq_distribution(freq_column):\n",
    "    print(\"MEAN length of data set :\",np.mean(freq_column))\n",
    "    print(\"MEDIAN length of data set :\",np.median(freq_column))\n",
    "    print(\"STD DEV length of data set :\",np.std(freq_column))\n",
    "    print(\"MAX token of data set :\",np.max(freq_column))\n",
    "    print(\"MIN token of data set :\",np.min(freq_column))\n",
    "    \n",
    "def plot_length_distribution(freq_column):\n",
    "    plt.hist(freq_column, bins=50)\n",
    "    plt.xlabel('Length of a sample')\n",
    "    plt.ylabel('Number of samples')\n",
    "    plt.title('Sample length distribution')\n",
    "    plt.show()\n"
   ]
  },
  {
   "cell_type": "code",
   "execution_count": 10,
   "metadata": {},
   "outputs": [
    {
     "data": {
      "image/png": "[encoded data removed]",
      "text/plain": [
       "<Figure size 432x288 with 1 Axes>"
      ]
     },
     "metadata": {
      "needs_background": "light"
     },
     "output_type": "display_data"
    }
   ],
   "source": [
    "plot_length_distribution(df['word_count'])"
   ]
  },
  {
   "cell_type": "code",
   "execution_count": 11,
   "metadata": {},
   "outputs": [
    {
     "name": "stdout",
     "output_type": "stream",
     "text": [
      "MEAN length of data set : 762.488\n",
      "MEDIAN length of data set : 712.5\n",
      "STD DEV length of data set : 335.3428303333769\n",
      "MAX token of data set : 2753\n",
      "MIN token of data set : 18\n",
      "MEAN of Negative Sentiment 721.772\n",
      "MEAN of Positive Sentiment 803.204\n"
     ]
    }
   ],
   "source": [
    "#mean length of data set\n",
    "stats_of_freq_distribution(df['word_count'])\n",
    "print(\"MEAN of Negative Sentiment\",np.mean(df[df['sentiment'] == 0]['word_count']))\n",
    "print(\"MEAN of Positive Sentiment\",np.mean(df[df['sentiment'] == 1]['word_count']))"
   ]
  },
  {
   "cell_type": "code",
   "execution_count": 12,
   "metadata": {},
   "outputs": [
    {
     "data": {
      "text/plain": [
       "<seaborn.axisgrid.FacetGrid at 0x5639748>"
      ]
     },
     "execution_count": 12,
     "metadata": {},
     "output_type": "execute_result"
    },
    {
     "data": {
      "image/png": "[encoded data removed]",
      "text/plain": [
       "<Figure size 360x360 with 1 Axes>"
      ]
     },
     "metadata": {
      "needs_background": "light"
     },
     "output_type": "display_data"
    }
   ],
   "source": [
    "# plot +ve vs -ve text length of review \n",
    "sns.catplot(x=\"sentiment\", y=\"word_count\", kind=\"swarm\", data=df)"
   ]
  },
  {
   "cell_type": "markdown",
   "metadata": {},
   "source": [
    "\n",
    "# Insprcting Dataset"
   ]
  },
  {
   "cell_type": "code",
   "execution_count": 13,
   "metadata": {},
   "outputs": [
    {
     "data": {
      "text/html": [
       "<div>\n",
       "<style scoped>\n",
       "    .dataframe tbody tr th:only-of-type {\n",
       "        vertical-align: middle;\n",
       "    }\n",
       "\n",
       "    .dataframe tbody tr th {\n",
       "        vertical-align: top;\n",
       "    }\n",
       "\n",
       "    .dataframe thead th {\n",
       "        text-align: right;\n",
       "    }\n",
       "</style>\n",
       "<table border=\"1\" class=\"dataframe\">\n",
       "  <thead>\n",
       "    <tr style=\"text-align: right;\">\n",
       "      <th></th>\n",
       "      <th>review</th>\n",
       "      <th>sentiment</th>\n",
       "      <th>word_count</th>\n",
       "    </tr>\n",
       "  </thead>\n",
       "  <tbody>\n",
       "    <tr>\n",
       "      <th>100</th>\n",
       "      <td>warning : spoilers are included in this review...</td>\n",
       "      <td>0.0</td>\n",
       "      <td>2070</td>\n",
       "    </tr>\n",
       "    <tr>\n",
       "      <th>107</th>\n",
       "      <td>* * * the following review contains spoilers ...</td>\n",
       "      <td>0.0</td>\n",
       "      <td>2191</td>\n",
       "    </tr>\n",
       "    <tr>\n",
       "      <th>428</th>\n",
       "      <td>the above is dialogue from this film , taken a...</td>\n",
       "      <td>0.0</td>\n",
       "      <td>2156</td>\n",
       "    </tr>\n",
       "    <tr>\n",
       "      <th>732</th>\n",
       "      <td>i think that saying that the x-files is one of...</td>\n",
       "      <td>0.0</td>\n",
       "      <td>2253</td>\n",
       "    </tr>\n",
       "    <tr>\n",
       "      <th>1146</th>\n",
       "      <td>seen may 19 , 1999 at 5 p . m . at the crossga...</td>\n",
       "      <td>1.0</td>\n",
       "      <td>2132</td>\n",
       "    </tr>\n",
       "    <tr>\n",
       "      <th>1256</th>\n",
       "      <td>most people fit into two different categories ...</td>\n",
       "      <td>1.0</td>\n",
       "      <td>2096</td>\n",
       "    </tr>\n",
       "    <tr>\n",
       "      <th>1345</th>\n",
       "      <td>alien 3 is the only alien film i have seen in ...</td>\n",
       "      <td>1.0</td>\n",
       "      <td>2055</td>\n",
       "    </tr>\n",
       "    <tr>\n",
       "      <th>1501</th>\n",
       "      <td>as much as i wanted to like this film as i wen...</td>\n",
       "      <td>1.0</td>\n",
       "      <td>2052</td>\n",
       "    </tr>\n",
       "    <tr>\n",
       "      <th>1512</th>\n",
       "      <td>it may seem weird to begin a film about glam r...</td>\n",
       "      <td>1.0</td>\n",
       "      <td>2079</td>\n",
       "    </tr>\n",
       "    <tr>\n",
       "      <th>1552</th>\n",
       "      <td>note : some may consider portions of the follo...</td>\n",
       "      <td>1.0</td>\n",
       "      <td>2753</td>\n",
       "    </tr>\n",
       "    <tr>\n",
       "      <th>1597</th>\n",
       "      <td>\" say , any of you know how to madison ? \" \\n...</td>\n",
       "      <td>1.0</td>\n",
       "      <td>2601</td>\n",
       "    </tr>\n",
       "    <tr>\n",
       "      <th>1601</th>\n",
       "      <td>i rented \" brokedown palace \" last night blind...</td>\n",
       "      <td>1.0</td>\n",
       "      <td>2001</td>\n",
       "    </tr>\n",
       "    <tr>\n",
       "      <th>1638</th>\n",
       "      <td>natural born killers is really a very simple s...</td>\n",
       "      <td>1.0</td>\n",
       "      <td>2252</td>\n",
       "    </tr>\n",
       "    <tr>\n",
       "      <th>1765</th>\n",
       "      <td>i remember seeing the trailer of the black cau...</td>\n",
       "      <td>1.0</td>\n",
       "      <td>2587</td>\n",
       "    </tr>\n",
       "    <tr>\n",
       "      <th>1946</th>\n",
       "      <td>star wars : episode 1 - the phantom menace ( 1...</td>\n",
       "      <td>1.0</td>\n",
       "      <td>2065</td>\n",
       "    </tr>\n",
       "  </tbody>\n",
       "</table>\n",
       "</div>"
      ],
      "text/plain": [
       "                                                 review  sentiment  word_count\n",
       "100   warning : spoilers are included in this review...        0.0        2070\n",
       "107    * * * the following review contains spoilers ...        0.0        2191\n",
       "428   the above is dialogue from this film , taken a...        0.0        2156\n",
       "732   i think that saying that the x-files is one of...        0.0        2253\n",
       "1146  seen may 19 , 1999 at 5 p . m . at the crossga...        1.0        2132\n",
       "1256  most people fit into two different categories ...        1.0        2096\n",
       "1345  alien 3 is the only alien film i have seen in ...        1.0        2055\n",
       "1501  as much as i wanted to like this film as i wen...        1.0        2052\n",
       "1512  it may seem weird to begin a film about glam r...        1.0        2079\n",
       "1552  note : some may consider portions of the follo...        1.0        2753\n",
       "1597   \" say , any of you know how to madison ? \" \\n...        1.0        2601\n",
       "1601  i rented \" brokedown palace \" last night blind...        1.0        2001\n",
       "1638  natural born killers is really a very simple s...        1.0        2252\n",
       "1765  i remember seeing the trailer of the black cau...        1.0        2587\n",
       "1946  star wars : episode 1 - the phantom menace ( 1...        1.0        2065"
      ]
     },
     "execution_count": 13,
     "metadata": {},
     "output_type": "execute_result"
    }
   ],
   "source": [
    "#word whose count above 2000 and abov 2.5K are only 3\n",
    "df[df['word_count']>2000].head(15)"
   ]
  },
  {
   "cell_type": "code",
   "execution_count": 14,
   "metadata": {},
   "outputs": [
    {
     "data": {
      "text/plain": [
       "'this three hour movie opens up with a view of singer/guitar player/musician/composer frank zappa rehearsing with his fellow band members . \\nall the rest displays a compilation of footage , mostly from the concert at the palladium in new york city , halloween 1979 . \\nother footage shows backstage foolishness , and amazing clay animation by bruce bickford . \\nthe performance of \" titties and beer \" played in this movie is very entertaining , with drummer terry bozzio supplying the voice of the devil . \\nfrank\\'s guitar solos outdo any van halen or hendrix i\\'ve ever heard . \\nbruce bickford\\'s outlandish clay animation is that beyond belief with zooms , morphings , etc . and actually , it doesn\\'t even look like clay , it looks like meat . \\n'"
      ]
     },
     "execution_count": 14,
     "metadata": {},
     "output_type": "execute_result"
    }
   ],
   "source": [
    "df[df['word_count']<250].iloc[25][\"review\"]"
   ]
  },
  {
   "cell_type": "markdown",
   "metadata": {},
   "source": [
    "# Too many \\n though out the data set"
   ]
  },
  {
   "cell_type": "code",
   "execution_count": 15,
   "metadata": {},
   "outputs": [
    {
     "data": {
      "image/png": "[encoded data removed]",
      "text/plain": [
       "<Figure size 432x288 with 1 Axes>"
      ]
     },
     "metadata": {
      "needs_background": "light"
     },
     "output_type": "display_data"
    }
   ],
   "source": [
    "wordcloud  = WordCloud(\n",
    "    background_color='black',\n",
    "   # stopwords=stopWords,\n",
    "    max_words=150,\n",
    "    max_font_size=20, \n",
    "    random_state=42\n",
    "    ).generate(str(stopWords))#(str(df_dublicates[\"Review Text\"]))\n",
    "plt.imshow(wordcloud) \n",
    "plt.axis(\"off\") \n",
    "plt.tight_layout(pad = 0)   \n",
    "plt.show()\n"
   ]
  },
  {
   "cell_type": "code",
   "execution_count": 16,
   "metadata": {},
   "outputs": [
    {
     "data": {
      "text/plain": [
       "{'!',\n",
       " '\"',\n",
       " '#',\n",
       " '$',\n",
       " '%',\n",
       " '&',\n",
       " \"'\",\n",
       " '(',\n",
       " ')',\n",
       " '*',\n",
       " '+',\n",
       " ',',\n",
       " '-',\n",
       " '.',\n",
       " '/',\n",
       " ':',\n",
       " ';',\n",
       " '<',\n",
       " '=',\n",
       " '>',\n",
       " '?',\n",
       " '@',\n",
       " '[',\n",
       " '\\\\',\n",
       " ']',\n",
       " '^',\n",
       " '_',\n",
       " '`',\n",
       " '{',\n",
       " '|',\n",
       " '}',\n",
       " '~'}"
      ]
     },
     "execution_count": 16,
     "metadata": {},
     "output_type": "execute_result"
    }
   ],
   "source": [
    "punct"
   ]
  },
  {
   "cell_type": "markdown",
   "metadata": {},
   "source": [
    "# pre processing step 1"
   ]
  },
  {
   "cell_type": "code",
   "execution_count": 17,
   "metadata": {},
   "outputs": [],
   "source": [
    "#BASIC \n",
    "# 1. tokenizer (many other variants)\n",
    "# 2. lowercase tokens\n",
    "## spelling correction error using TEXTBLOB\n",
    "# 3. remove stopwords **** might need it for input in embedding.. specially comma n  fullstop\n",
    "# 4. remove punctuation\n",
    "# can include additional STOPWORD / TOKEN / PUNCTUATION\n",
    "\n",
    "def preProcess(review):\n",
    "    token = word_tokenize(review) \n",
    "    tokens = [t.lower() for t in token]\n",
    "    filterd_words = [word for word in tokens if word not in stopWords]\n",
    "    return ' '.join(text for text in filterd_words if text not in punct)\n",
    "\n",
    "#for next iter keep punc / stopwords"
   ]
  },
  {
   "cell_type": "markdown",
   "metadata": {},
   "source": [
    "#  New df to store preprocessed file and its results"
   ]
  },
  {
   "cell_type": "code",
   "execution_count": 18,
   "metadata": {},
   "outputs": [],
   "source": [
    "df_preprocessed = pd.DataFrame()"
   ]
  },
  {
   "cell_type": "code",
   "execution_count": 19,
   "metadata": {},
   "outputs": [
    {
     "name": "stderr",
     "output_type": "stream",
     "text": [
      "100%|█████████████████████████████████████| 2000/2000 [00:10<00:00, 179.08it/s]\n"
     ]
    }
   ],
   "source": [
    "#applying preprocessing\n",
    "df_preprocessed['review'] = df['review'].progress_apply(lambda x : preProcess(x))"
   ]
  },
  {
   "cell_type": "markdown",
   "metadata": {},
   "source": [
    "# Preprocess Handle POS and lemmatization step 2"
   ]
  },
  {
   "cell_type": "code",
   "execution_count": 20,
   "metadata": {},
   "outputs": [],
   "source": [
    "# You need to convert the tag from the pos_tagger to one of the four \"syntactic categories\" that wordnet recognizes,\n",
    "# then pass that to the lemmatizer as the word_pos.\n",
    "# so lemmatizer can process it\n",
    "\n",
    "def get_wordnet_pos(treebank_tag):\n",
    "\n",
    "    if treebank_tag.startswith('J'):\n",
    "        return wordnet.ADJ\n",
    "    elif treebank_tag.startswith('V'):\n",
    "        return wordnet.VERB\n",
    "    elif treebank_tag.startswith('N'):\n",
    "        return wordnet.NOUN\n",
    "    elif treebank_tag.startswith('R'):\n",
    "        return wordnet.ADV\n",
    "    else:\n",
    "        return None \n",
    "    \n",
    "#tagged is defined globally\n",
    "\n",
    "def nltk_lemma(tag):\n",
    "    global tagged\n",
    "    lst=[]\n",
    "    for word, tag in tagged:\n",
    "        \n",
    "        wntag = get_wordnet_pos(tag)\n",
    "        \n",
    "        if wntag is None:# not supply tag in case of None\n",
    "            lemma = nltk_lemmatizer.lemmatize(word)\n",
    "            lst.append(lemma)\n",
    "            #return \" \".join(lemma)\n",
    "            #print(lemma)\n",
    "        else:\n",
    "            lemma = nltk_lemmatizer.lemmatize(word, pos=wntag)\n",
    "            lst.append(lemma)\n",
    "            #return \" \".join(lemma)\n",
    "            #print(lemma)\n",
    "            \n",
    "    return lst\n",
    "\n",
    "\n",
    "def POS_lemmatize(review):\n",
    "    global tagged\n",
    "    #normal tagger\n",
    "    #tagged = pos_tag(word_tokenize(review))\n",
    "    #stanford tagger\n",
    "    tagged = Stanford_postagger.tag(word_tokenize(review))# imp word tokenize and repective POS\n",
    "    return \" \".join(nltk_lemma(tagged))# retuns setence after lemmatising"
   ]
  },
  {
   "cell_type": "markdown",
   "metadata": {},
   "source": [
    "# Here using normal pos_tag as stanford is giving error"
   ]
  },
  {
   "cell_type": "code",
   "execution_count": 21,
   "metadata": {},
   "outputs": [
    {
     "name": "stderr",
     "output_type": "stream",
     "text": [
      "100%|██████████████████████████████████████| 2000/2000 [00:54<00:00, 36.64it/s]\n"
     ]
    }
   ],
   "source": [
    "'''\n",
    "%%time\n",
    "df_preprocessed['review'] = df_preprocessed[\"review\"].apply(lambda x : POS_lemmatize(x) )\n",
    "'''\n",
    "#using pos_tag and not he stanford tagger\n",
    "df_preprocessed['review'] = df_preprocessed[\"review\"].progress_map(lambda x : POS_lemmatize(x) )"
   ]
  },
  {
   "cell_type": "code",
   "execution_count": 22,
   "metadata": {},
   "outputs": [
    {
     "name": "stderr",
     "output_type": "stream",
     "text": [
      "100%|█████████████████████████████████████| 2000/2000 [00:03<00:00, 571.07it/s]\n"
     ]
    }
   ],
   "source": [
    "#applying word count of pre processed review\n",
    "df_preprocessed[\"word_count\"] = df_preprocessed[\"review\"].progress_apply(lambda x : word_count_in_review(x))"
   ]
  },
  {
   "cell_type": "code",
   "execution_count": 23,
   "metadata": {},
   "outputs": [],
   "source": [
    "df_preprocessed.head()\n",
    "df_preprocessed['sentiment'] = df['sentiment']\n",
    "#stats_of_freq_distribution(df_preprocessed['word_count'])"
   ]
  },
  {
   "cell_type": "code",
   "execution_count": 26,
   "metadata": {},
   "outputs": [
    {
     "data": {
      "text/plain": [
       "Index(['review', 'word_count', 'sentiment'], dtype='object')"
      ]
     },
     "execution_count": 26,
     "metadata": {},
     "output_type": "execute_result"
    }
   ],
   "source": [
    "df_preprocessed.columns"
   ]
  },
  {
   "cell_type": "markdown",
   "metadata": {},
   "source": [
    "# Org. data plot VS processed data plot"
   ]
  },
  {
   "cell_type": "code",
   "execution_count": 24,
   "metadata": {},
   "outputs": [
    {
     "data": {
      "image/png": "[encoded data removed]",
      "text/plain": [
       "<Figure size 432x288 with 1 Axes>"
      ]
     },
     "metadata": {
      "needs_background": "light"
     },
     "output_type": "display_data"
    }
   ],
   "source": [
    "plt.hist(df['word_count'], bins=50,color='green',alpha=0.4, label=\"Org. data\" )\n",
    "plt.hist(df_preprocessed['word_count'], bins=50,color='blue',alpha=0.4,label=\"procs. data\")\n",
    "plt.xlabel('Length of a sample')\n",
    "plt.ylabel('Number of samples')\n",
    "plt.title('Sample length distribution')\n",
    "plt.legend()\n",
    "plt.show()"
   ]
  },
  {
   "cell_type": "markdown",
   "metadata": {},
   "source": [
    "# Shuffle DataFrame rows"
   ]
  },
  {
   "cell_type": "code",
   "execution_count": 25,
   "metadata": {},
   "outputs": [
    {
     "data": {
      "text/html": [
       "<div>\n",
       "<style scoped>\n",
       "    .dataframe tbody tr th:only-of-type {\n",
       "        vertical-align: middle;\n",
       "    }\n",
       "\n",
       "    .dataframe tbody tr th {\n",
       "        vertical-align: top;\n",
       "    }\n",
       "\n",
       "    .dataframe thead th {\n",
       "        text-align: right;\n",
       "    }\n",
       "</style>\n",
       "<table border=\"1\" class=\"dataframe\">\n",
       "  <thead>\n",
       "    <tr style=\"text-align: right;\">\n",
       "      <th></th>\n",
       "      <th>review</th>\n",
       "      <th>word_count</th>\n",
       "      <th>sentiment</th>\n",
       "    </tr>\n",
       "  </thead>\n",
       "  <tbody>\n",
       "    <tr>\n",
       "      <th>0</th>\n",
       "      <td>phew mess fifth collaboration director rich- a...</td>\n",
       "      <td>280</td>\n",
       "      <td>0.0</td>\n",
       "    </tr>\n",
       "    <tr>\n",
       "      <th>1</th>\n",
       "      <td>one point brian de palma 's crime epic scarfac...</td>\n",
       "      <td>358</td>\n",
       "      <td>1.0</td>\n",
       "    </tr>\n",
       "    <tr>\n",
       "      <th>2</th>\n",
       "      <td>verdict spine-chilling drama horror maestro st...</td>\n",
       "      <td>457</td>\n",
       "      <td>1.0</td>\n",
       "    </tr>\n",
       "    <tr>\n",
       "      <th>3</th>\n",
       "      <td>extraordinary year australian film `` shine ``...</td>\n",
       "      <td>374</td>\n",
       "      <td>1.0</td>\n",
       "    </tr>\n",
       "    <tr>\n",
       "      <th>4</th>\n",
       "      <td>inspired 1958 film house haunt hill star vince...</td>\n",
       "      <td>295</td>\n",
       "      <td>0.0</td>\n",
       "    </tr>\n",
       "    <tr>\n",
       "      <th>5</th>\n",
       "      <td>towards middle `` sweet hereafter `` crowded s...</td>\n",
       "      <td>289</td>\n",
       "      <td>1.0</td>\n",
       "    </tr>\n",
       "    <tr>\n",
       "      <th>6</th>\n",
       "      <td>since film debut 1984 tightly work texas thril...</td>\n",
       "      <td>456</td>\n",
       "      <td>1.0</td>\n",
       "    </tr>\n",
       "    <tr>\n",
       "      <th>7</th>\n",
       "      <td>first hear contact hype build sci-fi blockbust...</td>\n",
       "      <td>370</td>\n",
       "      <td>1.0</td>\n",
       "    </tr>\n",
       "    <tr>\n",
       "      <th>8</th>\n",
       "      <td>deuce bigalow rob schneider clean fish tank ye...</td>\n",
       "      <td>295</td>\n",
       "      <td>0.0</td>\n",
       "    </tr>\n",
       "    <tr>\n",
       "      <th>9</th>\n",
       "      <td>`` disney stick-to-what-you-do-best `` rule st...</td>\n",
       "      <td>473</td>\n",
       "      <td>0.0</td>\n",
       "    </tr>\n",
       "    <tr>\n",
       "      <th>10</th>\n",
       "      <td>`` book `` remain shadows book shadow blair wi...</td>\n",
       "      <td>397</td>\n",
       "      <td>0.0</td>\n",
       "    </tr>\n",
       "    <tr>\n",
       "      <th>11</th>\n",
       "      <td>'ve get mail work alot good deserves order mak...</td>\n",
       "      <td>218</td>\n",
       "      <td>1.0</td>\n",
       "    </tr>\n",
       "    <tr>\n",
       "      <th>12</th>\n",
       "      <td>question n't grease reissue answer one easy ce...</td>\n",
       "      <td>300</td>\n",
       "      <td>1.0</td>\n",
       "    </tr>\n",
       "    <tr>\n",
       "      <th>13</th>\n",
       "      <td>warner brother score another marketing coup on...</td>\n",
       "      <td>218</td>\n",
       "      <td>0.0</td>\n",
       "    </tr>\n",
       "    <tr>\n",
       "      <th>14</th>\n",
       "      <td>modern audience likely familiar le misirables ...</td>\n",
       "      <td>254</td>\n",
       "      <td>1.0</td>\n",
       "    </tr>\n",
       "    <tr>\n",
       "      <th>15</th>\n",
       "      <td>hour `` jackal `` character wander around peop...</td>\n",
       "      <td>658</td>\n",
       "      <td>0.0</td>\n",
       "    </tr>\n",
       "    <tr>\n",
       "      <th>16</th>\n",
       "      <td>many way `` twotg `` tough-guy movie la confid...</td>\n",
       "      <td>307</td>\n",
       "      <td>1.0</td>\n",
       "    </tr>\n",
       "    <tr>\n",
       "      <th>17</th>\n",
       "      <td>`` twilight `` ex-alcoholic ex-cop ex-husband ...</td>\n",
       "      <td>284</td>\n",
       "      <td>0.0</td>\n",
       "    </tr>\n",
       "    <tr>\n",
       "      <th>18</th>\n",
       "      <td>louie trumpeter swan voice order woo lady love...</td>\n",
       "      <td>218</td>\n",
       "      <td>0.0</td>\n",
       "    </tr>\n",
       "    <tr>\n",
       "      <th>19</th>\n",
       "      <td>experience like baby genius certain effect ave...</td>\n",
       "      <td>338</td>\n",
       "      <td>0.0</td>\n",
       "    </tr>\n",
       "    <tr>\n",
       "      <th>20</th>\n",
       "      <td>titantic writer director jam cameron 's much a...</td>\n",
       "      <td>666</td>\n",
       "      <td>1.0</td>\n",
       "    </tr>\n",
       "    <tr>\n",
       "      <th>21</th>\n",
       "      <td>robin williams comedic genus one 's film allow...</td>\n",
       "      <td>418</td>\n",
       "      <td>0.0</td>\n",
       "    </tr>\n",
       "    <tr>\n",
       "      <th>22</th>\n",
       "      <td>people populate movie 54 shallow self-absorbed...</td>\n",
       "      <td>214</td>\n",
       "      <td>0.0</td>\n",
       "    </tr>\n",
       "    <tr>\n",
       "      <th>23</th>\n",
       "      <td>capsule world come end midnight everyone know ...</td>\n",
       "      <td>198</td>\n",
       "      <td>1.0</td>\n",
       "    </tr>\n",
       "    <tr>\n",
       "      <th>24</th>\n",
       "      <td>originally go give spanish prisoner two half s...</td>\n",
       "      <td>263</td>\n",
       "      <td>1.0</td>\n",
       "    </tr>\n",
       "    <tr>\n",
       "      <th>25</th>\n",
       "      <td>summary five liberal iowa graduate student sha...</td>\n",
       "      <td>306</td>\n",
       "      <td>1.0</td>\n",
       "    </tr>\n",
       "    <tr>\n",
       "      <th>26</th>\n",
       "      <td>sheer horrific audacity nazi plan exterminate ...</td>\n",
       "      <td>452</td>\n",
       "      <td>1.0</td>\n",
       "    </tr>\n",
       "    <tr>\n",
       "      <th>27</th>\n",
       "      <td>roger michell 's romantic comedy notting hill ...</td>\n",
       "      <td>540</td>\n",
       "      <td>1.0</td>\n",
       "    </tr>\n",
       "    <tr>\n",
       "      <th>28</th>\n",
       "      <td>revolutionary war hero patriot mel gibson prov...</td>\n",
       "      <td>407</td>\n",
       "      <td>1.0</td>\n",
       "    </tr>\n",
       "    <tr>\n",
       "      <th>29</th>\n",
       "      <td>lady gentlemen payback expensive episode `` eq...</td>\n",
       "      <td>287</td>\n",
       "      <td>0.0</td>\n",
       "    </tr>\n",
       "    <tr>\n",
       "      <th>...</th>\n",
       "      <td>...</td>\n",
       "      <td>...</td>\n",
       "      <td>...</td>\n",
       "    </tr>\n",
       "    <tr>\n",
       "      <th>1970</th>\n",
       "      <td>`` return horror high `` want couple different...</td>\n",
       "      <td>207</td>\n",
       "      <td>0.0</td>\n",
       "    </tr>\n",
       "    <tr>\n",
       "      <th>1971</th>\n",
       "      <td>i-2 sequel mission impossible james bond wanna...</td>\n",
       "      <td>725</td>\n",
       "      <td>0.0</td>\n",
       "    </tr>\n",
       "    <tr>\n",
       "      <th>1972</th>\n",
       "      <td>go 's gloriously slick hip machine director li...</td>\n",
       "      <td>295</td>\n",
       "      <td>1.0</td>\n",
       "    </tr>\n",
       "    <tr>\n",
       "      <th>1973</th>\n",
       "      <td>writer dennis feldman jonathan hensleigh base ...</td>\n",
       "      <td>750</td>\n",
       "      <td>0.0</td>\n",
       "    </tr>\n",
       "    <tr>\n",
       "      <th>1974</th>\n",
       "      <td>simple look little spacecraft land automobile ...</td>\n",
       "      <td>498</td>\n",
       "      <td>1.0</td>\n",
       "    </tr>\n",
       "    <tr>\n",
       "      <th>1975</th>\n",
       "      <td>upon time jean-claude van damme decent action ...</td>\n",
       "      <td>357</td>\n",
       "      <td>0.0</td>\n",
       "    </tr>\n",
       "    <tr>\n",
       "      <th>1976</th>\n",
       "      <td>'s one thing common hollywood 's major studio ...</td>\n",
       "      <td>297</td>\n",
       "      <td>1.0</td>\n",
       "    </tr>\n",
       "    <tr>\n",
       "      <th>1977</th>\n",
       "      <td>one day 'll make good promise never rent anoth...</td>\n",
       "      <td>499</td>\n",
       "      <td>0.0</td>\n",
       "    </tr>\n",
       "    <tr>\n",
       "      <th>1978</th>\n",
       "      <td>back 1998 dreamworks unveil first computer ani...</td>\n",
       "      <td>383</td>\n",
       "      <td>1.0</td>\n",
       "    </tr>\n",
       "    <tr>\n",
       "      <th>1979</th>\n",
       "      <td>alien 3 alien film see theater saw 13 year old...</td>\n",
       "      <td>920</td>\n",
       "      <td>1.0</td>\n",
       "    </tr>\n",
       "    <tr>\n",
       "      <th>1980</th>\n",
       "      <td>two really good thing say tarzan lose city fol...</td>\n",
       "      <td>272</td>\n",
       "      <td>0.0</td>\n",
       "    </tr>\n",
       "    <tr>\n",
       "      <th>1981</th>\n",
       "      <td>inseparable team sgt martin riggs mel gibson s...</td>\n",
       "      <td>246</td>\n",
       "      <td>1.0</td>\n",
       "    </tr>\n",
       "    <tr>\n",
       "      <th>1982</th>\n",
       "      <td>`` ca n't 's mine `` -- twisted priest charles...</td>\n",
       "      <td>678</td>\n",
       "      <td>0.0</td>\n",
       "    </tr>\n",
       "    <tr>\n",
       "      <th>1983</th>\n",
       "      <td>read review get ta know love woody allen impor...</td>\n",
       "      <td>444</td>\n",
       "      <td>1.0</td>\n",
       "    </tr>\n",
       "    <tr>\n",
       "      <th>1984</th>\n",
       "      <td>`` bad thing `` delightfully morbid film year ...</td>\n",
       "      <td>388</td>\n",
       "      <td>1.0</td>\n",
       "    </tr>\n",
       "    <tr>\n",
       "      <th>1985</th>\n",
       "      <td>see february 15 1998 home video borrow chris w...</td>\n",
       "      <td>413</td>\n",
       "      <td>1.0</td>\n",
       "    </tr>\n",
       "    <tr>\n",
       "      <th>1986</th>\n",
       "      <td>plot two teen couple go church party drink dri...</td>\n",
       "      <td>358</td>\n",
       "      <td>0.0</td>\n",
       "    </tr>\n",
       "    <tr>\n",
       "      <th>1987</th>\n",
       "      <td>`` gattaca `` represent solid breakthrough rec...</td>\n",
       "      <td>459</td>\n",
       "      <td>1.0</td>\n",
       "    </tr>\n",
       "    <tr>\n",
       "      <th>1988</th>\n",
       "      <td>coen brother back time homer 's `` odyssey `` ...</td>\n",
       "      <td>562</td>\n",
       "      <td>1.0</td>\n",
       "    </tr>\n",
       "    <tr>\n",
       "      <th>1989</th>\n",
       "      <td>well 'll damn canadian make good movie world c...</td>\n",
       "      <td>227</td>\n",
       "      <td>1.0</td>\n",
       "    </tr>\n",
       "    <tr>\n",
       "      <th>1990</th>\n",
       "      <td>`` dumb `` cowboy blondie think darn good love...</td>\n",
       "      <td>231</td>\n",
       "      <td>1.0</td>\n",
       "    </tr>\n",
       "    <tr>\n",
       "      <th>1991</th>\n",
       "      <td>pleasantly surprised film budget top 200 milli...</td>\n",
       "      <td>604</td>\n",
       "      <td>1.0</td>\n",
       "    </tr>\n",
       "    <tr>\n",
       "      <th>1992</th>\n",
       "      <td>movie 's highly build truman show review boast...</td>\n",
       "      <td>221</td>\n",
       "      <td>1.0</td>\n",
       "    </tr>\n",
       "    <tr>\n",
       "      <th>1993</th>\n",
       "      <td>catherine deane jennifer lopez psychologist hi...</td>\n",
       "      <td>500</td>\n",
       "      <td>1.0</td>\n",
       "    </tr>\n",
       "    <tr>\n",
       "      <th>1994</th>\n",
       "      <td>essence good hunt ordinary story tell well tak...</td>\n",
       "      <td>475</td>\n",
       "      <td>1.0</td>\n",
       "    </tr>\n",
       "    <tr>\n",
       "      <th>1995</th>\n",
       "      <td>`` desperate measure `` generic title film 's ...</td>\n",
       "      <td>392</td>\n",
       "      <td>0.0</td>\n",
       "    </tr>\n",
       "    <tr>\n",
       "      <th>1996</th>\n",
       "      <td>major horror sub-genres vampire movie easily a...</td>\n",
       "      <td>345</td>\n",
       "      <td>1.0</td>\n",
       "    </tr>\n",
       "    <tr>\n",
       "      <th>1997</th>\n",
       "      <td>use anyone could become vampire usually aristo...</td>\n",
       "      <td>297</td>\n",
       "      <td>0.0</td>\n",
       "    </tr>\n",
       "    <tr>\n",
       "      <th>1998</th>\n",
       "      <td>enemy gate jude law gift russian sniper make h...</td>\n",
       "      <td>245</td>\n",
       "      <td>1.0</td>\n",
       "    </tr>\n",
       "    <tr>\n",
       "      <th>1999</th>\n",
       "      <td>merchant-ivory costume drama pulse `` mod squa...</td>\n",
       "      <td>338</td>\n",
       "      <td>0.0</td>\n",
       "    </tr>\n",
       "  </tbody>\n",
       "</table>\n",
       "<p>2000 rows × 3 columns</p>\n",
       "</div>"
      ],
      "text/plain": [
       "                                                 review  word_count  sentiment\n",
       "0     phew mess fifth collaboration director rich- a...         280        0.0\n",
       "1     one point brian de palma 's crime epic scarfac...         358        1.0\n",
       "2     verdict spine-chilling drama horror maestro st...         457        1.0\n",
       "3     extraordinary year australian film `` shine ``...         374        1.0\n",
       "4     inspired 1958 film house haunt hill star vince...         295        0.0\n",
       "5     towards middle `` sweet hereafter `` crowded s...         289        1.0\n",
       "6     since film debut 1984 tightly work texas thril...         456        1.0\n",
       "7     first hear contact hype build sci-fi blockbust...         370        1.0\n",
       "8     deuce bigalow rob schneider clean fish tank ye...         295        0.0\n",
       "9     `` disney stick-to-what-you-do-best `` rule st...         473        0.0\n",
       "10    `` book `` remain shadows book shadow blair wi...         397        0.0\n",
       "11    've get mail work alot good deserves order mak...         218        1.0\n",
       "12    question n't grease reissue answer one easy ce...         300        1.0\n",
       "13    warner brother score another marketing coup on...         218        0.0\n",
       "14    modern audience likely familiar le misirables ...         254        1.0\n",
       "15    hour `` jackal `` character wander around peop...         658        0.0\n",
       "16    many way `` twotg `` tough-guy movie la confid...         307        1.0\n",
       "17    `` twilight `` ex-alcoholic ex-cop ex-husband ...         284        0.0\n",
       "18    louie trumpeter swan voice order woo lady love...         218        0.0\n",
       "19    experience like baby genius certain effect ave...         338        0.0\n",
       "20    titantic writer director jam cameron 's much a...         666        1.0\n",
       "21    robin williams comedic genus one 's film allow...         418        0.0\n",
       "22    people populate movie 54 shallow self-absorbed...         214        0.0\n",
       "23    capsule world come end midnight everyone know ...         198        1.0\n",
       "24    originally go give spanish prisoner two half s...         263        1.0\n",
       "25    summary five liberal iowa graduate student sha...         306        1.0\n",
       "26    sheer horrific audacity nazi plan exterminate ...         452        1.0\n",
       "27    roger michell 's romantic comedy notting hill ...         540        1.0\n",
       "28    revolutionary war hero patriot mel gibson prov...         407        1.0\n",
       "29    lady gentlemen payback expensive episode `` eq...         287        0.0\n",
       "...                                                 ...         ...        ...\n",
       "1970  `` return horror high `` want couple different...         207        0.0\n",
       "1971  i-2 sequel mission impossible james bond wanna...         725        0.0\n",
       "1972  go 's gloriously slick hip machine director li...         295        1.0\n",
       "1973  writer dennis feldman jonathan hensleigh base ...         750        0.0\n",
       "1974  simple look little spacecraft land automobile ...         498        1.0\n",
       "1975  upon time jean-claude van damme decent action ...         357        0.0\n",
       "1976  's one thing common hollywood 's major studio ...         297        1.0\n",
       "1977  one day 'll make good promise never rent anoth...         499        0.0\n",
       "1978  back 1998 dreamworks unveil first computer ani...         383        1.0\n",
       "1979  alien 3 alien film see theater saw 13 year old...         920        1.0\n",
       "1980  two really good thing say tarzan lose city fol...         272        0.0\n",
       "1981  inseparable team sgt martin riggs mel gibson s...         246        1.0\n",
       "1982  `` ca n't 's mine `` -- twisted priest charles...         678        0.0\n",
       "1983  read review get ta know love woody allen impor...         444        1.0\n",
       "1984  `` bad thing `` delightfully morbid film year ...         388        1.0\n",
       "1985  see february 15 1998 home video borrow chris w...         413        1.0\n",
       "1986  plot two teen couple go church party drink dri...         358        0.0\n",
       "1987  `` gattaca `` represent solid breakthrough rec...         459        1.0\n",
       "1988  coen brother back time homer 's `` odyssey `` ...         562        1.0\n",
       "1989  well 'll damn canadian make good movie world c...         227        1.0\n",
       "1990  `` dumb `` cowboy blondie think darn good love...         231        1.0\n",
       "1991  pleasantly surprised film budget top 200 milli...         604        1.0\n",
       "1992  movie 's highly build truman show review boast...         221        1.0\n",
       "1993  catherine deane jennifer lopez psychologist hi...         500        1.0\n",
       "1994  essence good hunt ordinary story tell well tak...         475        1.0\n",
       "1995  `` desperate measure `` generic title film 's ...         392        0.0\n",
       "1996  major horror sub-genres vampire movie easily a...         345        1.0\n",
       "1997  use anyone could become vampire usually aristo...         297        0.0\n",
       "1998  enemy gate jude law gift russian sniper make h...         245        1.0\n",
       "1999  merchant-ivory costume drama pulse `` mod squa...         338        0.0\n",
       "\n",
       "[2000 rows x 3 columns]"
      ]
     },
     "execution_count": 25,
     "metadata": {},
     "output_type": "execute_result"
    }
   ],
   "source": [
    "#Shuffling since 1ok +ve sample followed by 10k -ve sample\n",
    "#df.reindex(np.random.permutation(df.index))   #numpy way of doing\n",
    "#df.sample(frac=1).reset_index(drop=True)      #pandas way of doing\n",
    "df_preprocessed.sample(frac=1).reset_index(drop=True)   "
   ]
  },
  {
   "cell_type": "code",
   "execution_count": 27,
   "metadata": {},
   "outputs": [],
   "source": [
    "pd.to_pickle(df_preprocessed, \"./pickles/1_processed_pos_tag.pkl\")"
   ]
  },
  {
   "cell_type": "markdown",
   "metadata": {},
   "source": [
    "# Deciding seq length for N.N "
   ]
  },
  {
   "cell_type": "code",
   "execution_count": 28,
   "metadata": {},
   "outputs": [
    {
     "name": "stdout",
     "output_type": "stream",
     "text": [
      "MEAN length of data set : 373.0535\n",
      "MEDIAN length of data set : 350.0\n",
      "STD DEV length of data set : 161.66131150572173\n",
      "MAX token of data set : 1477\n",
      "MIN token of data set : 7\n"
     ]
    }
   ],
   "source": [
    "stats_of_freq_distribution(df_preprocessed['word_count'])"
   ]
  },
  {
   "cell_type": "code",
   "execution_count": 29,
   "metadata": {},
   "outputs": [
    {
     "data": {
      "text/plain": [
       "695"
      ]
     },
     "execution_count": 29,
     "metadata": {},
     "output_type": "execute_result"
    }
   ],
   "source": [
    "# MEAN + 2 * std dev\n",
    "max_tokens = 373 + 2 * 161\n",
    "max_tokens"
   ]
  },
  {
   "cell_type": "markdown",
   "metadata": {},
   "source": [
    "# Covers about 95% of data"
   ]
  },
  {
   "cell_type": "code",
   "execution_count": 30,
   "metadata": {},
   "outputs": [
    {
     "data": {
      "text/plain": [
       "0.952"
      ]
     },
     "execution_count": 30,
     "metadata": {},
     "output_type": "execute_result"
    }
   ],
   "source": [
    "np.sum(df_preprocessed['word_count'] < max_tokens) / len(df_preprocessed['word_count'])"
   ]
  },
  {
   "cell_type": "markdown",
   "metadata": {},
   "source": [
    "# Vocab of tf-idf terms"
   ]
  },
  {
   "cell_type": "code",
   "execution_count": 28,
   "metadata": {},
   "outputs": [
    {
     "data": {
      "text/plain": [
       "'\\ncreate a vocabulary of words in the corpous\\nfrom the vocab choose word from original vector\\nMEAN length of data set : 373.0535\\nMEDIAN length of data set : 350.0\\n\\ninput_dim = size of the vocabula\\ninput_length = input_seq_lense;   For example, if all of your input documents are comprised of 1000 words, this would be 1000.\\n\\n'"
      ]
     },
     "execution_count": 28,
     "metadata": {},
     "output_type": "execute_result"
    }
   ],
   "source": [
    "'''\n",
    "create a vocabulary of words in the corpous\n",
    "from the vocab choose word from original vector\n",
    "MEAN length of data set : 373.0535\n",
    "MEDIAN length of data set : 350.0\n",
    "\n",
    "input_dim = size of the vocabula\n",
    "input_length = input_seq_lense;   For example, if all of your input documents are comprised of 1000 words, this would be 1000.\n",
    "\n",
    "'''\n"
   ]
  },
  {
   "cell_type": "code",
   "execution_count": 31,
   "metadata": {},
   "outputs": [
    {
     "data": {
      "text/html": [
       "<div>\n",
       "<style scoped>\n",
       "    .dataframe tbody tr th:only-of-type {\n",
       "        vertical-align: middle;\n",
       "    }\n",
       "\n",
       "    .dataframe tbody tr th {\n",
       "        vertical-align: top;\n",
       "    }\n",
       "\n",
       "    .dataframe thead th {\n",
       "        text-align: right;\n",
       "    }\n",
       "</style>\n",
       "<table border=\"1\" class=\"dataframe\">\n",
       "  <thead>\n",
       "    <tr style=\"text-align: right;\">\n",
       "      <th></th>\n",
       "      <th>review</th>\n",
       "      <th>word_count</th>\n",
       "      <th>sentiment</th>\n",
       "    </tr>\n",
       "  </thead>\n",
       "  <tbody>\n",
       "    <tr>\n",
       "      <th>0</th>\n",
       "      <td>plot two teen couple go church party drink dri...</td>\n",
       "      <td>358</td>\n",
       "      <td>0.0</td>\n",
       "    </tr>\n",
       "    <tr>\n",
       "      <th>1</th>\n",
       "      <td>happy bastard 's quick movie review damn y2k b...</td>\n",
       "      <td>144</td>\n",
       "      <td>0.0</td>\n",
       "    </tr>\n",
       "    <tr>\n",
       "      <th>2</th>\n",
       "      <td>movie like make jaded movie viewer thankful in...</td>\n",
       "      <td>276</td>\n",
       "      <td>0.0</td>\n",
       "    </tr>\n",
       "    <tr>\n",
       "      <th>3</th>\n",
       "      <td>`` quest camelot `` warner bros first feature-...</td>\n",
       "      <td>313</td>\n",
       "      <td>0.0</td>\n",
       "    </tr>\n",
       "    <tr>\n",
       "      <th>4</th>\n",
       "      <td>synopsis mentally unstable man undergo psychot...</td>\n",
       "      <td>402</td>\n",
       "      <td>0.0</td>\n",
       "    </tr>\n",
       "  </tbody>\n",
       "</table>\n",
       "</div>"
      ],
      "text/plain": [
       "                                              review  word_count  sentiment\n",
       "0  plot two teen couple go church party drink dri...         358        0.0\n",
       "1  happy bastard 's quick movie review damn y2k b...         144        0.0\n",
       "2  movie like make jaded movie viewer thankful in...         276        0.0\n",
       "3  `` quest camelot `` warner bros first feature-...         313        0.0\n",
       "4  synopsis mentally unstable man undergo psychot...         402        0.0"
      ]
     },
     "execution_count": 31,
     "metadata": {},
     "output_type": "execute_result"
    }
   ],
   "source": [
    "df_preprocessed.head()"
   ]
  },
  {
   "cell_type": "code",
   "execution_count": null,
   "metadata": {},
   "outputs": [],
   "source": []
  }
 ],
 "metadata": {
  "kernelspec": {
   "display_name": "Python 3",
   "language": "python",
   "name": "python3"
  },
  "language_info": {
   "codemirror_mode": {
    "name": "ipython",
    "version": 3
   },
   "file_extension": ".py",
   "mimetype": "text/x-python",
   "name": "python",
   "nbconvert_exporter": "python",
   "pygments_lexer": "ipython3",
   "version": "3.6.8"
  }
 },
 "nbformat": 4,
 "nbformat_minor": 2
}
