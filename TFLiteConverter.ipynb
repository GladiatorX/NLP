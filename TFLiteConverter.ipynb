{
 "cells": [
  {
   "cell_type": "markdown",
   "metadata": {
    "colab_type": "text",
    "id": "uj2kevKRM9ur"
   },
   "source": [
    "# Import TensorFlow Lite"
   ]
  },
  {
   "cell_type": "code",
   "execution_count": 0,
   "metadata": {
    "colab": {
     "base_uri": "https://localhost:8080/",
     "height": 34
    },
    "colab_type": "code",
    "id": "QSLFKa8GfDMr",
    "outputId": "5157097d-1c5d-462c-b55f-f928fa477660"
   },
   "outputs": [
    {
     "name": "stdout",
     "output_type": "stream",
     "text": [
      "1.13.0-rc1\n"
     ]
    }
   ],
   "source": [
    "\n",
    "import tensorflow as tf\n",
    "from tensorflow.contrib import lite\n",
    "\n",
    "print( tf.VERSION )\n"
   ]
  },
  {
   "cell_type": "markdown",
   "metadata": {
    "colab_type": "text",
    "id": "q3YAVYO2NCgz"
   },
   "source": [
    "# Convert the Keras model to a TensorFlow Lite model and write the .tflite file"
   ]
  },
  {
   "cell_type": "code",
   "execution_count": 0,
   "metadata": {
    "colab": {},
    "colab_type": "code",
    "id": "go_GFH86fLHr"
   },
   "outputs": [],
   "source": [
    "\n",
    "converter = lite.TFLiteConverter.from_keras_model_file( 'model.h5' ) \n",
    "model = converter.convert()\n",
    "\n",
    "file = open( 'model.tflite' , 'wb' ) \n",
    "file.write( model )\n"
   ]
  },
  {
   "cell_type": "markdown",
   "metadata": {
    "colab_type": "text",
    "id": "cGSRGCDFvQgX"
   },
   "source": [
    "# Check the output data type and shape."
   ]
  },
  {
   "cell_type": "code",
   "execution_count": 0,
   "metadata": {
    "colab": {},
    "colab_type": "code",
    "id": "-oow8h4znSYR"
   },
   "outputs": [],
   "source": [
    "import tensorflow as tf\n",
    "import numpy as np\n",
    "\n",
    "interpreter = tf.contrib.lite.Interpreter(model_path=\"model.tflite\")\n",
    "interpreter.allocate_tensors()\n",
    "\n",
    "print(interpreter.get_input_details()[0]['shape'])  \n",
    "print(interpreter.get_input_details()[0]['dtype']) \n",
    "\n",
    "print(interpreter.get_output_details()[0]['shape'])  \n",
    "print(interpreter.get_output_details()[0]['dtype']) \n"
   ]
  }
 ],
 "metadata": {
  "accelerator": "GPU",
  "colab": {
   "collapsed_sections": [],
   "name": "TFLiteConverter.ipynb",
   "provenance": [],
   "toc_visible": true,
   "version": "0.3.2"
  },
  "kernelspec": {
   "display_name": "Python 3",
   "language": "python",
   "name": "python3"
  },
  "language_info": {
   "codemirror_mode": {
    "name": "ipython",
    "version": 3
   },
   "file_extension": ".py",
   "mimetype": "text/x-python",
   "name": "python",
   "nbconvert_exporter": "python",
   "pygments_lexer": "ipython3",
   "version": "3.6.8"
  }
 },
 "nbformat": 4,
 "nbformat_minor": 1
}
