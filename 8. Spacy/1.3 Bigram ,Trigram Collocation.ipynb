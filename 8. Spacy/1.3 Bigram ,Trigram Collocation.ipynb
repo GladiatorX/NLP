{
 "cells": [
  {
   "cell_type": "markdown",
   "metadata": {},
   "source": [
    "https://stackoverflow.com/questions/2452982/how-to-extract-common-significant-phrases-from-a-series-of-text-entries\n",
    "* extract n-grams from your data and then find the ones that have the highest point wise mutual information (PMI). That is, you want to find the words that co-occur together much more than you would expect them to by chance."
   ]
  },
  {
   "cell_type": "code",
   "execution_count": 1,
   "metadata": {},
   "outputs": [],
   "source": [
    "\n",
    "import spacy\n",
    "import en_core_web_sm\n",
    "nlp = en_core_web_sm.load()\n",
    "\n",
    "import nltk\n",
    "from nltk.collocations import *\n",
    "\n",
    "import pandas as pd\n",
    "\n",
    "bigram_measures = nltk.collocations.BigramAssocMeasures()\n",
    "trigram_measures = nltk.collocations.TrigramAssocMeasures()"
   ]
  },
  {
   "cell_type": "markdown",
   "metadata": {},
   "source": [
    "# Loading n explorig"
   ]
  },
  {
   "cell_type": "code",
   "execution_count": 2,
   "metadata": {},
   "outputs": [
    {
     "name": "stdout",
     "output_type": "stream",
     "text": [
      "sports        874\n",
      "national      791\n",
      "politics      712\n",
      "technology    628\n",
      "world         441\n",
      "business      377\n",
      "Name: news_category, dtype: int64\n"
     ]
    }
   ],
   "source": [
    "df = pd.read_pickle(\"./news_df.pkl\")\n",
    "print(df['news_category'].value_counts())\n",
    "politics_df = (df[df['news_category'] == 'politics'])"
   ]
  },
  {
   "cell_type": "code",
   "execution_count": 4,
   "metadata": {},
   "outputs": [
    {
     "data": {
      "text/plain": [
       "Index(['news_headline', 'news_article', 'news_category'], dtype='object')"
      ]
     },
     "execution_count": 4,
     "metadata": {},
     "output_type": "execute_result"
    }
   ],
   "source": [
    "columns"
   ]
  },
  {
   "cell_type": "markdown",
   "metadata": {},
   "source": [
    "# Bi / Tri gramCollocationFinder expects token of words so\n",
    "* converting to tokens on unprocessed data"
   ]
  },
  {
   "cell_type": "code",
   "execution_count": 3,
   "metadata": {},
   "outputs": [],
   "source": [
    "# Maybe convert it to set\n",
    "formatted_politics_data = []\n",
    "for news in politics_df['news_article']:\n",
    "    news = nlp(news)\n",
    "    for word in news:\n",
    "        term = word.text\n",
    "        formatted_politics_data.append(term)"
   ]
  },
  {
   "cell_type": "code",
   "execution_count": 6,
   "metadata": {},
   "outputs": [
    {
     "data": {
      "text/plain": [
       "['Sabha', 'elections', 'in']"
      ]
     },
     "execution_count": 6,
     "metadata": {},
     "output_type": "execute_result"
    }
   ],
   "source": [
    "formatted_politics_data[4:7]"
   ]
  },
  {
   "cell_type": "markdown",
   "metadata": {},
   "source": [
    "# Applying Bi- Tri gramCollocationfinder"
   ]
  },
  {
   "cell_type": "code",
   "execution_count": 17,
   "metadata": {},
   "outputs": [
    {
     "data": {
      "text/plain": [
       "[('180', 'degrees'),\n",
       " ('1982', 'batch'),\n",
       " ('Akal', 'Takht'),\n",
       " ('Bajrang', 'Bali'),\n",
       " ('Cooch', 'Behar'),\n",
       " ('Golden', 'Temple'),\n",
       " ('Gul', 'Panag'),\n",
       " ('Jyotiraditya', 'Scindia'),\n",
       " ('K', 'Chandrashekar'),\n",
       " ('Maharashtrawadi', 'Gomantak')]"
      ]
     },
     "execution_count": 17,
     "metadata": {},
     "output_type": "execute_result"
    }
   ],
   "source": [
    "# change this to read in your data\n",
    "finderBigram = BigramCollocationFinder.from_words(formatted_politics_data)\n",
    "finderTrigram = TrigramCollocationFinder.from_words(formatted_politics_data)\n",
    "\n",
    "# only bigrams that appear 3+ times\n",
    "finderBigram.apply_freq_filter(3)\n",
    "finderTrigram.apply_freq_filter(3)\n",
    "# return the 10 n-grams with the highest PMI\n",
    "finderBigram.nbest(bigram_measures.pmi, 10)"
   ]
  },
  {
   "cell_type": "code",
   "execution_count": 19,
   "metadata": {},
   "outputs": [
    {
     "data": {
      "text/plain": [
       "[('Thank', 'god', 'Godse'),\n",
       " ('K', 'Chandrashekar', 'Rao'),\n",
       " ('ur', 'voice', 'ring'),\n",
       " ('voice', 'ring', 'loud'),\n",
       " ('taking', 'adequate', 'actions'),\n",
       " ('various', 'key', 'positions'),\n",
       " ('Actress', 'Gul', 'Panag'),\n",
       " ('Satish', 'Chaudhary', 'Naga'),\n",
       " ('Electronic', 'Voting', 'Machines'),\n",
       " ('retired', 'IAS', 'officer')]"
      ]
     },
     "execution_count": 19,
     "metadata": {},
     "output_type": "execute_result"
    }
   ],
   "source": [
    "finderTrigram.nbest(bigram_measures.pmi, 10)"
   ]
  },
  {
   "cell_type": "code",
   "execution_count": null,
   "metadata": {},
   "outputs": [],
   "source": []
  }
 ],
 "metadata": {
  "kernelspec": {
   "display_name": "Python 3",
   "language": "python",
   "name": "python3"
  },
  "language_info": {
   "codemirror_mode": {
    "name": "ipython",
    "version": 3
   },
   "file_extension": ".py",
   "mimetype": "text/x-python",
   "name": "python",
   "nbconvert_exporter": "python",
   "pygments_lexer": "ipython3",
   "version": "3.6.8"
  }
 },
 "nbformat": 4,
 "nbformat_minor": 2
}
