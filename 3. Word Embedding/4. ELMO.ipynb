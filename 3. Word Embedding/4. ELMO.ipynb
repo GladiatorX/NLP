{
 "cells": [
  {
   "cell_type": "markdown",
   "metadata": {},
   "source": [
    "'''\n",
    "import pandas as pd\n",
    "import tensorflow as tf\n",
    "import tensorflow_hub as hub\n",
    "from sklearn import preprocessing\n",
    "import keras\n",
    "import numpy as np\n",
    "'''"
   ]
  },
  {
   "cell_type": "markdown",
   "metadata": {},
   "source": [
    "* ELMo is a deep contextualized word representation that models both \n",
    "  - complex characteristics of word use (e.g., syntax and semantics), and\n",
    "  - how these uses vary across linguistic contexts (i.e., to model polysemy). \n",
    "  These word vectors are learned functions of the internal states of a deep bidirectional language model (biLM), which is pre-   trained on a large text corpus. They can be easily added to existing models and significantly improve the state of the art across a broad range of challenging NLP problems, including question answering, textual entailment and sentiment analysis."
   ]
  },
  {
   "cell_type": "markdown",
   "metadata": {},
   "source": [
    "# ELMo representations are:\n",
    "\n",
    "\n",
    "* Contextual: The representation for each word depends on the entire context in which it is used.\n",
    "* Deep: The word representations combine all layers of a deep pre-trained neural network.\n",
    "* Character based: ELMo representations are purely character based, allowing the network to use morphological clues to form robust representations for out-of-vocabulary tokens unseen in training."
   ]
  },
  {
   "cell_type": "markdown",
   "metadata": {},
   "source": [
    "**Different from traditional word embeddings, ELMo produced multiple word embeddings per single word for different scenarios.**\n",
    "**Higher-level layers capture context-dependent aspects of word embeddings while lower-level layers capture model aspects of syntax.**"
   ]
  },
  {
   "cell_type": "markdown",
   "metadata": {},
   "source": [
    "# http://www.realworldnlpbook.com/blog/improving-sentiment-analyzer-using-elmo.html"
   ]
  },
  {
   "cell_type": "markdown",
   "metadata": {},
   "source": [
    "# tfhub"
   ]
  },
  {
   "cell_type": "markdown",
   "metadata": {},
   "source": [
    "# BERT"
   ]
  },
  {
   "cell_type": "code",
   "execution_count": null,
   "metadata": {},
   "outputs": [],
   "source": []
  }
 ],
 "metadata": {
  "kernelspec": {
   "display_name": "Python 3",
   "language": "python",
   "name": "python3"
  },
  "language_info": {
   "codemirror_mode": {
    "name": "ipython",
    "version": 3
   },
   "file_extension": ".py",
   "mimetype": "text/x-python",
   "name": "python",
   "nbconvert_exporter": "python",
   "pygments_lexer": "ipython3",
   "version": "3.7.1"
  }
 },
 "nbformat": 4,
 "nbformat_minor": 2
}
