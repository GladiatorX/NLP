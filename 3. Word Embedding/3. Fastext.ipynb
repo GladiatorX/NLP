{
 "cells": [
  {
   "cell_type": "markdown",
   "metadata": {},
   "source": [
    "* FastText is a library created by the Facebook Research Team for **efficient learning of word representations and sentence classification.**\n",
    "* **How Fastext is diffrent from word2vec/glove ?** \n",
    "  - w2v / glove considers each words as smallest unit(it maps window of word to its center word vice versa) & develops word represrsentation\n",
    "  - Fastext assumes a word to be formed by a n-grams of character Ex: sunny is composed of [sun, sunn,sunny],[sunny,unny,nny] \n",
    "  -  n could range from 1 to the length of the word\n",
    "*  **ADVANTAGES** :\n",
    "  - since rare words(OOV) could still be broken into character n-gram; its helpful to find rare word representation \n",
    "    Example : stupedofantabulouslyfantastic\n",
    "   - using the vectors for those chunks to  create a final vector for the word.  final vector might be closer to the vectors of fantastic and fantabulous\n",
    "   - n-grams embeddings tend to perform superior to word2vec and glove on **smaller datasets**\n",
    "   * Usually in English words are composed of freq occuing n-gram chunks.\n",
    "   \n",
    "* https://www.analyticsvidhya.com/blog/2017/07/word-representations-text-classification-using-fasttext-nlp-facebook/\n",
    "* https://hackernoon.com/text-classification-simplified-with-facebooks-fasttext-b9d3022ac9cb\n",
    "\n",
    "**https://stackoverflow.com/questions/49811479/fasttext-algorithm-use-only-word-and-subword-or-sentences-too**"
   ]
  },
  {
   "cell_type": "code",
   "execution_count": 2,
   "metadata": {},
   "outputs": [],
   "source": [
    "sentences = [['best', 'laptop', 'machine', 'learning', 'artificial', 'intelligence'], ['rise', 'analysis', 'platforms', 'across', 'every', 'sector', 'leading', 'big', 'tech', 'companies', 'startups', 'integrating', 'machine', 'learning', 'deep', 'learning', 'existing', 'system'], ['advancement', 'led', 'major', 'revolution', 'hardware', 'required', 'setups'], ['students', 'beginners', 'trying', 'enter', 'domain', 'willing', 'take', 'time', 'working', 'towards', 'entering', 'artificial', 'intelligence', 'sector', 'kind', 'machine', 'invest', 'depending', 'budget'], ['present', 'variety', 'options', 'available', 'market.advertisementto', 'personal', 'machine', 'projects', 'mind', 'one', 'needs', 'choose', 'mobility', 'machine', 'want', 'carry', 'around', '–', 'laptop'], ['machine', 'training', 'algorithms', 'alone', '–', 'customized', 'desktop', 'home', 'work.what', 'minimum', 'requirements', 'machine'], ['note', 'nvidia', 'gpus', 'cuda', 'extension', 'allows', 'gpu', 'support', 'tensorflow', 'pytorch.get', 'started', 'deep', 'learning', 'using', 'matlabhigh', 'end', 'laptopsbudget', 'laptopsyou', 'also', 'find', 'budget', 'laptops', 'cuda', 'enabled', 'nvidia', 'gpus', 'deep', 'learning'], ['gaming', 'laptops', 'specs', 'essentially', 'gaming', 'also', 'used', 'deep', 'learning'], ['downgrade', 'ram', 'cpu', 'one', 'opt', 'training'], ['one', 'build', 'pc', 'lower', 'price', 'compared', 'pricy', 'laptops'], ['article', 'give', 'brief', 'information', 'customize', 'pc', 'deep', 'learning'], ['advancement', 'tech', 'gpu', 'prices', 'skyrocketing', 'addition', 'new', 'nvidia', 'tesla', 'gpus'], ['better', 'invest', 'high', 'end', 'gpu', 'compromising', 'cpu', 'deep', 'learning', 'purposes.what', 'external', 'gpu', 'docks'], ['external', 'gpu', 'addition', 'existing', 'laptop', 'one', 'buy', 'external', 'graphic', 'dock', 'extension', 'like', 'asus', 'rog', 'xg', 'station', 'graphics', 'dock'], ['customized', 'based', 'specifications.conclusionby', 'one', 'laptops', 'one', 'build', 'train', 'test', 'deep', 'learning', 'models', 'short', 'span', 'time'], ['comes', 'deep', 'learning', 'tuning', 'hyper', 'parameters', 'tedious', 'time', 'consuming', 'task', 'advisable', 'power', 'powerful', 'machine', 'save', 'time.buyer', \"'s\", 'guideby', 'aadam', 'october', '28', '20187', 'best', 'laptops', 'deep', 'learning', 'machine', 'learning', '2018', 'best', 'laptops', 'deep', 'learning', 'machine', 'learningthough', 'various', 'fields', 'requires', 'laptop', 'good', 'specifications', 'get', 'affordable', 'price', '’', 'case', 'deep', 'learning'], ['need', 'good', 'specification', 'deep', 'learning.many', 'people', 'try', 'build', 'desktop', 'pc', 'deep', 'learning', 'decided', 'buy', 'laptop', 'carry', 'around', '’', 'happy', 'help', 'you.today', '’', 'going', 'talk', '7', 'best', 'laptops', 'deep', 'learning', 'machine', 'learning', 'offers', 'great', 'specifications', 'delivers', 'good', 'value', 'hard-earned', 'money.before', 'talk', 'laptops', 'need', 'keep', '5', 'important', 'aspects', 'mind', 'getting', 'laptop', 'deep', 'learning.1'], ['budget', 'first', 'foremost', 'thing', 'choosing', 'laptop', 'machine', 'learning', 'setting', 'right', 'budget'], ['would', 'recommend', 'budget', 'least', '1000', 'maximum', '3000'], ['price', 'range', '’', 'surely', 'get', 'powerful', 'machine', 'high-quality', 'specifications.2'], ['cpu', 'intel', '’', 'core', 'i7', 'highly', 'recommended', 'machine', 'learning'], ['’', 'go', 'core', 'i5', 'even', 'lower', 'budget', 'else', 'may', 'face', 'performance', 'issues', 'sure.3'], ['gpu', '’', 'need', 'remind', 'need', 'least', 'decent', 'gpu', 'want', 'render', 'anything', 'project', 'job'], ['’', 'buy', 'laptop', 'without', 'dedicated', 'gpu', 'deep', 'learning'], ['recommended', 'gpu', 'machine', 'learning', 'deep', 'learning', 'would', 'nvidia', 'nvidia', '’', '10', 'series.4'], ['ram', '16gb', 'memory', 'would', 'sufficient', 'deep', 'learning', 'opt', '32gb', 'higher', 'budget'], ['less', '16gb', 'ram', 'cause', 'issues', 'multitasking.5'], ['portability', 'powerful', 'hardware', 'means', 'heavy', 'laptop'], ['laptops', 'heavy', 'list'], ['couple', 'lightweight', 'portable'], ['’', 'travel', 'laptop', 'regularly', 'problem', 'buying', 'heavy', 'laptop'], ['choose', 'option', 'wisely.okay', 'let', 'show', '6', 'amazing', 'laptops.contents', 'hide', 'top', '7', 'laptops', 'deep', 'learning', 'machine', 'learning', '2018', '1'], ['tensorbook', '2'], ['dell', 'inspiron', 'i5577-', 'cheapest', 'laptop', 'deep', 'learning', '3'], ['eluktronics', 'pro-x', 'p650hs-g', '4'], ['gigabyte', 'aero', '15x-', 'best', 'value', 'money', 'laptop', '5'], ['acer', 'predator', '15-a', 'cheap', 'good', 'laptop', 'machine', 'learning', '6'], ['asus', 'rog', 'zephyrus', 'gx501', '7'], ['acer', 'predator', 'triton', '700-', 'powerful', 'laptop', 'deep', 'learningtop', '7', 'laptops', 'deep', 'learning', 'machine', 'learning', '2018no'], ['name', 'cpu', 'gpu', '1', 'tensorbook', 'intel', 'core', 'i7-8750h', 'gtx', '1070', '8gb', 'check', 'pricedell', 'inspiron', 'i5577', 'cheapest', 'option', 'intel', 'core', 'i7-7700hq', 'gtx', '1050', '4gb', 'check', 'price3', 'eluktronics', 'pro-x', 'p650hs-g', 'intel', 'core', 'intel', 'i7-7700hq', 'gtx', '1070', '8gb', 'check', 'price4', 'gigabyte', 'aero', '15x', 'editor', \"'s\", 'choice', 'intel', 'core', 'i7-8750h', 'gtx', '1070', '8gb', 'check', 'price5', 'acer', 'predator', '15', 'intel', 'core', 'i7-6700hq', 'gtx', '1070', '8gb', 'check', 'price6', 'asus', 'rog', 'zephyrus', 'gx501', 'intel', 'core', 'i7-8750h', 'gtx', '1080', '8gb', 'check', 'price7', 'acer', 'predator', 'triton', '700', 'intel', 'core', 'i7-7700hq', 'gtx', '1080', '8gb', 'check', 'price', '1'], ['tensorbooktensorbookthe', 'tensorbook', 'lambda', 'labs', 'one', 'perfect', 'laptops', 'get', 'profession'], ['rated', 'laptop', '1', 'list', 'machine', 'created', 'especially', 'deep', 'learning', 'machine', 'tasks.the', 'tensorbook', 'comes', '15.6', 'inch', '4k', 'qhd', 'display', 'great', 'deep', 'learning', 'tasks', 'entertainment', 'purpose', 'watching', 'movies', 'online', 'streaming', 'gaming.the', 'storage', 'offered', 'machine', '500gb', 'ssd', '32gb', 'ram', 'adequate', 'professional', 'personal', 'purpose.one', 'best', 'things', 'laptop', 'comes', 'pre-installed', 'deep', 'learning', 'framework', 'tensorflow', 'keras', 'caffe2'], ['’', 'need', 'worry', 'compatibility', 'software', 'machine', 'all.when', 'comes', 'cpu', '’', 'getting', 'intel', '’', '8th', 'gen', 'core', 'i7', 'processor', 'i.e', 'intel', 'core', 'i7-8750h', 'fine', 'job', 'handling', 'multitasking', 'without', 'problems.you', 'getting', 'powerful', 'gpu', 'machine', 'i.e', 'nvidia', '1070', '8gb', 'ram', 'gpu', 'absolutely', 'great', 'job', 'running', 'deep', 'learning', 'software', 'without', 'causing', 'issues.while', 'basic', 'tasks', 'expect', '2', 'hours', 'battery', 'life', 'running', 'heavy', 'demanding', 'programs', 'get', 'around', '45', 'minutes', 'battery', 'life.prosbuild', 'quality', 'good.specifically', 'build', 'deep', 'learning.consmight', 'expensive', 'students.specs', 'recap', 'screen', 'size', '15.6', 'inches.storage', '512gb', 'ssd.ram', '32gb', 'ddr4', 'ram.processor', 'intel', 'core', 'i7-8750hgraphics', 'card', 'nvidia', 'gtx', '1070', '8gb.operating', 'system', 'ubuntu', '18.04', 'lts', 'lambda', 'stackweight', '4.2', 'lbs.check', 'price', '2'], ['dell', 'inspiron', 'i5577-', 'cheapest', 'laptop', 'deep', 'learningdell', 'inspiron', 'i5577if', 'looking', 'cheapest', 'laptop', 'deep', 'learning', '’', 'sure', 'one', 'best', 'options', 'right'], ['costs', '50', 'less', 'minimum', 'budget', 'i.e', '950', 'referred', 'above.the', 'dell', 'inspiron', 'i5577', 'comes', '15.6-inch', 'tn', 'panel', 'faster', 'refresh', 'rates', 'mentioned', 'ryan'], ['build', 'laptop', 'rigid', 'sturdy', 'justify', 'price'], ['laptop', 'weighs', '5.7', 'lbs', '2.5', 'kg', 'think', 'slightly', 'heavy', 'easy', 'carry', 'traveling.dell', 'offered', '16gb', 'ddr4', 'memory', 'multitasking', '512gb', 'pcie', 'ssd', 'storage'], ['processor', '’', 'getting', 'machine', 'quad-core', 'intel', 'core', 'i7-7700hq', 'handles', 'pretty', 'everything', 'ba'], ['one', 'best', 'things', 'laptop', 'low', 'fan', 'noise', 'even', 'heavy', 'load.for', 'gaming', 'experience', 'dell', 'included', 'nvidia', 'gtx', '1050', 'might', 'powerful', 'gtx', '1060', '1070', 'pricing', 'would', 'say', 'performs', 'really', 'well'], ['’', 'performance', 'two', 'popular', 'games', 'played', 'laptop.1'], ['skyrim=', '40', 'fps', 'ultra', 'settings', '2'], ['neverwinter=', '36', 'fps', 'high', 'settings', 'comes', 'battery', 'life', 'expect', 'around', '3', 'hours', 'heavy', 'lightweight', 'usage'], ['using', 'browsing', 'online', 'streaming', 'expect', '7-8', 'hours', 'battery', 'life', 'pretty', 'decent', 'would', 'say.prosthe', 'cheapest', 'laptop', 'list.decent', 'battery', 'life.consan', 'ips', 'panel', 'would', 'better.specs', 'recap', 'screen', 'size', '15.6', 'inches.storage', '512gb', 'ssd.ram', '16gb', 'ddr4', 'ram.processor', 'intel', 'core', 'i7-7700hqgraphics', 'card', 'nvidia', 'gtx', '1050', '4gb.operating', 'system', 'windows', '10.weight', '5.7', 'lbs.check', 'price', '3'], ['eluktronics', 'pro-x', 'p650hs-geluktronics', 'pro-x', 'p650hs-gthe', 'eluktronics', 'pro-x', 'p650hs-g', '15.6-inch', 'laptop', 'great', 'build', 'quality', 'weighs', '6', 'lbs', '2.7', 'kg', '.the', 'laptop', '4', 'variants', 'would', 'suggest', 'go', 'variant', '256gb', 'ssd+', '16gb', 'ram.the', 'ssd', 'offered', 'eluktronics', 'machine', 'pcie'], ['surely', 'expect', 'faster', 'performance', 'compared', 'sata', 'ssd'], ['16gb', 'really', 'good', 'handling', 'type', 'extreme', 'tasks.note', 'hearing', 'eluktronics', '’', 'worry'], ['reliable', 'offer', 'top', 'quality', 'laptops'],\n",
    "             ['follow', 'reddit', 'thread', 'read', 'reviews', 'company'], ['eluktronics', 'pro-x', 'p650hs-g', 'ratings', '4.6/5', 'amazon', 'rated', 'almost', '50', 'customers.you', '’', 'get', 'intel', '’', 'kaby', 'like', 'processor', 'i.e', 'core', 'i7-7700hq', 'good', 'multitasking', 'heat', 'management', 'system', 'excellent', 'say'], ['system', 'remains', 'cool', 'even', 'performing', 'heavy', 'tasks.the', 'gpu', 'offered', 'machine', 'nvidia', 'geforce', 'gtx', '1070', '8gb', 'ddr5', 'vram'], ['gpu', 'based', 'pascal', 'architecture', 'perfectly', 'suitable', 'professions', 'like'], ['passionate', 'gamer', 'surely', 'play', 'almost', 'game', 'high', 'frame', 'rates'], ['powerful', 'gpu', 'multiple', 'benefits', 'power', 'users.the', 'ports', 'available', 'laptop', '2', 'usb', '3.1', 'gen', '2', 'port', 'type-c', '3', 'usb', '3.0', 'hdmi', '2', 'mini', 'display', 'port', 'sd', 'card', 'reader'], ['port', 'selection', 'good', 'inclusion', 'thunderbolt', 'would', 'better.as', 'gaming', 'power', 'consuming', 'laptop', 'expected', 'laptop', '’', 'great', 'battery', 'life'], ['maximum', 'battery', 'life', 'expect', 'machine', 'deep', 'learning', 'tasks', '2', 'hours'], ['need', 'keep', 'charger', 'along', 'time', 'traveling', 'somewhere.overall', 'good', 'laptop', 'machine', 'learning', 'would', 'say.prosgreat', 'build', 'quality.solid', 'performance.conslack', 'thunderbolt', 'port.specs', 'recap', 'screen', 'size', '15.6', 'inches.storage', '256gb', 'ssd.ram', '16gb', 'ddr4', 'ram.processor', 'quad', 'core', 'intel', 'i7-7700hq.graphics', 'card', 'nvidia', 'gtx', '1070', '8gb.operating', 'system', 'windows', '10.weight', '6', 'lbs.check', 'price', 'amazon', '4'], ['gigabyte', 'aero', '15x-', 'best', 'value', 'money', 'laptopgigabyte', 'aero', '15xthe', 'gigabyte', 'aero', '15x', 'another', 'great', 'laptop', 'provides', 'real', 'value', 'money'], ['’', 'cost', 'around', '2200', 'must', 'say', 'one', 'best', 'value', 'money', 'laptop', 'deep', 'learning', 'without', 'doubt.it', 'comes', '15.6-inch', 'full', 'hd', 'display', 'minimal', 'bezels'], ['144hz', 'panel', 'good', 'viewing', 'angles', 'color', 'accuracy'], ['another', 'variant', 'comes', '4k', 'display', 'would', 'advise', 'stick', 'full', 'hd', 'model', '’', 'give', 'longer', 'battery', 'life.mostly', 'body', 'laptop', 'made', 'aluminum', 'rest', 'plastic'], ['considering', 'specs', 'offered', 'machine', 'say', 'fairly', 'portable', 'laptop'], ['weighs', '4.6', 'lbs', '2.1', 'kg', '.you', '’', 'getting', '512gb', 'nvme', 'pcie', 'ssd', 'laptop'], ['ssd', 'responds', 'quickly', 'performs', 'well'], ['read', 'write', 'speeds', 'ssd', '884', 'mbps', '721', 'mbps', 'respectively'], ['gigabyte', 'offered', '16gb', 'ddr4', 'memory', 'empty', 'dimm', 'upgrade', 'ram', 'want', 'improve', 'performance.the', 'cpu', 'inside', 'laptop', '’', 'find', 'intel', '’', '8th', 'gen', 'core', 'i7', 'processor', 'i.e', 'intel', 'core', 'i7-8750h', 'performs', 'lot', 'better', '7th', 'gen', 'processor'], ['processor', 'handles', 'tasks', 'well', 'almost', 'issues', 'regarding', 'thermal', 'throttling.you', '’', 'get', 'nvidia', 'geforce', 'gtx', '1070', 'graphics', 'card', 'machine', 'laptop'], ['like', 'said', 'powerful', 'gpu', 'suitable', 'high', 'demanding', 'tasks', 'like', 'deep', 'learning.to', 'give', 'idea', 'performance', 'gpu', 'machine', 'look', 'chart', 'below.gigabyte', 'aero', '15x', 'gaming', 'performancesourcethese', 'performance', '3', 'popular', 'games'], ['graphics', 'card', 'lot', 'playing', 'heavy', 'demanding', 'games.the', 'ports', 'selection', 'laptop', 'good', 'would', 'say'], ['left', 'side', '’', 'get', 'rj', 'ethernet', 'usb', '3.0', 'hdmi', '2.0', 'mini', 'port'], ['right', 'side', '2', 'usb', '3', 'usb-c', 'thunderbolt', '3', 'sd', 'card', 'reader'], ['surprising', 'part', 'sd', 'card', 'reader', 'powered', 'uhs', '2', 'transfer', 'speed', '250-300', 'mb/s.and', 'lastly', 'battery', 'life.considering', 'specs', 'everyone', 'would', 'expect', 'short', 'battery', 'life', 'gigabyte', 'aero', '15x', '’', 'actually', 'true'], ['personal', 'usage', 'expect', 'around', '6', 'hours', 'battery', 'life', 'tasks', 'related', 'machine', 'learning', 'deep', 'learning', 'expect', '3', 'hours', 'quite', 'great', 'would', 'say.prosamazing', 'performance.easy', 'travel', 'with.good', 'battery', 'life.constrackpad', '’', 'upto', 'mark.specs', 'recap', 'screen', 'size', '15.6', 'inches.storage', '512gb', 'ssd.ram', '16gb', 'ddr4', 'ram.processor', 'intel', 'core', 'i7-8750h.graphics', 'card', 'nvidia', 'gtx', '1070', '8gb.operating', 'system', 'windows', '10', 'home.weight', '4.6', 'lbs.you', 'watch', 'full', 'video', 'review', 'dave2d', 'want', 'learn', 'more.check', 'price', 'amazon', '5'], ['acer', 'predator', '15-a', 'cheap', 'good', 'laptop', 'machine', 'learningacer', 'predator', '15i', 'talked', 'acer', 'predator', 'helios', '300', 'site', 'several', 'times', 'first', 'time', '’', 'going', 'talk', 'acer', 'predator', '15', '’', 'going', 'tell', 'consider', 'getting', 'beast', 'yourself.before', 'talk', 'anything', 'laptop', 'let', 'tell', 'cheapest', 'affordable', 'laptop', 'machine', 'learning'], ['two', 'laptops', 'surely', 'provide', 'great', 'value', 'cost', 'high', 'compared', 'amazing', 'laptop.the', 'body', 'acer', 'predator', '15', 'mostly', 'made', 'plastic', 'yet', 'sturdy', '’', 'feel', 'like', 'cheap', 'laptop'], ['15.6', 'inch', 'full', 'hd', 'ips', 'panel', 'comes', 'g-synch', 'technology', 'excellent', 'viewing', 'angles.unlike', 'gigabyte', 'aero', '15x', 'laptop', '’', 'portable'], ['weighs', '8.2', 'pounds', '3.7', 'kg', '’', 'think', 'anyone', 'carry', 'without', 'laptop', 'bag'], ['looking', 'portable', 'machine', 'think', 'laptop', 'may', 'right', 'choice.coming', 'storage', 'part', '’', 'get', '256gb+', '1tb', '7200', 'rpm', 'hard', 'disk', 'drive', 'ideal', 'choice', 'professional', 'personal', 'purpose'], ['acer', 'offered', '16gb', 'ddr4', 'ram', 'upgraded', '64gb.inside', 'laptop', '’', 'get', 'slightly', 'older', 'processor', 'i.e', 'intel', 'core', 'i7-6700hq', 'compared', 'two', 'laptops'], ['performance', 'laptop', 'reasonably', 'good', 'paired', 'gtx', '1070'], ['review', 'shows', 'gaming', 'performance', 'machine', 'equivalent', 'desktop', 'performance.you', 'expect', '4-5', 'hours', 'battery', 'life', 'tasks', 'like', 'multimedia', 'ms', 'word/', 'excel', 'using', 'chrome/', 'mozilla', 'etc'], ['heavy', 'tasks', 'expect', 'maximum', '2', 'hours', 'battery', 'life', 'pretty', 'usual', 'gaming', 'machine.i', 'hesitation', 'recommend', 'one', 'best', 'laptop', 'deep', 'learning', 'machine', 'learning', 'almost', 'everything', 'requires', 'profession.prosprovides', 'great', 'value', 'affordable', 'price.great', 'display.performance', 'top', 'class.consquite', 'heavy.specs', 'recap', 'screen', 'size', '15.6', 'inches.storage', '256gb', 'ssd+', '1tb', 'hdd.ram', '16gb', 'ddr4', 'ram.processor', 'intel', 'core', 'i7-6700hqgraphics', 'card', 'nvidia', 'gtx', '1070', '8gb.operating', 'system', 'windows', '10.weight', '8.2', 'lbs.check', 'price', 'amazon', '6'], ['asus', 'rog', 'zephyrus', 'gx501rog', 'zephyrus', 'gx501the', 'asus', 'rog', 'zephyrus', 'gx501', 'quite', 'expensive', 'laptop', 'may', 'value', 'money', 'machine', 'others', 'still', 'powerful', 'specs', 'offer.this', '2018', 'model', 'rog', 'zephyrus', 'gx501', 'asus', 'made', 'improvements', 'predecessor'], ['one', 'major', 'changes', 'newer', 'model', 'display'], ['’', 'getting', '144hz', 'ips', 'panel', 'instead', '120hz', 'panel'], ['display', 'laptop', 'good', 'color', 'reproduction', 'almost', 'issues', 'regarding', 'display.the', 'laptop', 'upgraded', '7the', 'gen', 'core', 'i7', '8th', 'gen', 'processor', 'i.e', 'intel', 'core', 'i7-8750h'], ['processor', '’', 'get', 'gigabyte', 'aero', '15x'], ['’', 'getting', '6', 'cores', 'processor', 'compared', '4', 'older', 'one'], ['surely', 'expect', 'least', '10', '-15', 'improvement', 'performance', 'department', '8th', 'gen', 'processor.asus', 'offered', 'nvidia', 'gtx', '1080', 'graphics', 'card', 'powerful', 'machine'], ['expect', 'significant', 'amount', 'improvement', 'gaming', 'performance'], ['could', 'one', 'best', 'all-round', 'laptops', 'everything', 'good', 'display', 'extremely', 'high', 'level', 'gaming', 'experience.you', 'play', 'popular', 'games', 'overwatch', '95', 'fps', 'destiny', '2', '120', 'fps', 'high', 'settings'], ['idea', 'presenting', 'gaming', 'performance', 'show', 'well', 'graphics', 'card', 'perform'], ['performance', 'games', 'clearly', 'assume', 'gtx', '1080', 'powerful', 'guy', 'easily', 'handle', 'type', 'tasks', 'related', 'graphics.the', 'laptop', 'weighs', 'almost', '5', 'pounds', '2.26', 'kg', 'may', 'heavy', '’', 'lightweight', 'either'], ['travel', 'occasionally', 'always.one', 'concerning', 'things', 'laptop', 'regarding', 'fan'], ['gets', 'little', 'louder', 'usual', 'performing', 'heavy', 'tasks'], ['asus', 'done', 'something', 'offering', 'laptop', 'hefty', 'price'], ['ports', '’', 'get', 'laptop', 'hdmi', '2.0', 'usb', '3.1', 'type', 'c', 'usb', 'type', 'c', 'thunderbolt', '3.the', 'battery', 'life', 'laptop', 'pretty', 'standard', 'gaming', 'machine'], ['get', 'around', '4', 'hours', 'basic', 'lightweight', 'tasks', '1.5-2', 'hours', 'gaming', 'heavy', 'tasks.this', 'surely', 'one', 'best', 'laptop', 'tensorflow', 'weka', 'etc.prospowerful', 'cpu', 'gpu.improved', 'display.consvery', 'expensive.specs', 'recap', 'screen', 'size', '15.6', 'inches.storage', '512gb', 'ssdram', '16gb', 'ddr4', 'ram.processor', 'intel', 'core', 'i7-8750h', 'processor.graphics', 'card', 'nvidia', 'gtx', '1080', '8gb.operating', 'system', 'windows', '10', 'pro.weight', '5', 'lbs.check', 'price', 'amazon', '7'], ['acer', 'predator', 'triton', '700-', 'powerful', 'laptop', 'deep', 'learningacer', 'predator', 'triton', '700finally', 'big', 'monster'], \n",
    "             ['acer', 'predator', 'triton', '700', 'could', 'slightly', 'powerful', 'asus', 'rog', 'zephyrus', 'gx501', 'laptops', 'priced', 'similarly', 'laptops', 'costs', 'around', '2800', 'mark.as', 'might', 'expect', 'price', 'range', '’', 'getting', 'laptop', 'premium', 'build', 'quality', '’', 'acer', 'delivered', 'predator', 'triton', '700'], ['body', 'laptop', 'entirely', 'made', 'smetal', 'strong', 'rigid'], ['surely', '’', 'give', 'feel', 'cheap', 'laptop.one', 'key', 'things', 'mention', 'laptop', 'unique', 'trackpad'], ['instead', 'square', 'type', 'trackpad', 'bottom', 'keyboard', 'area', '’', 'getting', 'big', 'sized', 'glass', 'trackpad', 'top', 'area'], ['though', 'may', 'take', 'time', 'get', 'used', 'works', 'pretty', 'fine'], ['getting', 'customizable', 'rgb', 'backlit', 'keyboard', 'machine', 'amazing', 'thing', 'have.the', '512gb', 'pcie', 'ssd', 'performs', 'extremely', 'fast', 'whose', 'read', 'write', 'speeds', '3300', 'mbps', '2650', 'mbps', 'respectively'], ['32gb', 'ddr4', 'ram', 'offered', 'machine', 'surely', 'help', 'run', 'multitasking', 'ease'], ['getting', 'cpu', 'laptop', 'i.e', 'intel', 'core', 'i7-7700hq', 'great', 'usual.this', 'second', 'laptop', 'list', 'comes', 'powerful', 'nvidia', 'gtx', '1080', '8gb', 'gddr5x', 'vram'], ['gaming', 'performance', 'machine', 'usual', 'outstanding', 'powerful', 'gpu', 'play', 'almost', 'games', 'even', 'highest', 'settings.let', 'give', 'idea', 'acer', 'predator', 'triton', '700', 'gaming', 'performanceas', 'say', 'beast', 'handle', 'almost', 'game', 'flawlessly'], ['laptop', 'also', 'suitable', 'heavy', 'tasks', 'video', 'editing', 'music', 'production', 'etc.you', '’', 'getting', 'handful', 'ports', 'machine'], ['1', 'usb', 'type', 'c', 'thunderbolt,3', 'usb', '3.0', 'ethernet', 'jack', '1', 'usb', '2.0', 'hdmi', 'display', 'port.this', 'laptop', 'weighs', '5.4', 'pounds', '2.4', 'kg'], ['considering', 'heavy', 'powerful', 'components', '’', 'think', 'heavy', 'laptop', 'neither', 'lightweight', 'laptop'], ['travel', 'occasionally', 'like', 'laptop.and', 'lastly', 'battery', 'life.you', 'expect', 'around', '2', 'hours', 'gaming', 'performance', 'slightly', 'general', 'tasks'], ['longer', 'battery', 'life', 'better', 'considering', 'price', '’', 'expect', 'good', 'battery', 'life', 'every', 'gaming', 'laptop.prosgreat', 'performance.excellent', 'display.consweak', 'battery', 'life.specs', 'recap', 'screen', 'size', '15.6', 'inches.storage', '512gb', 'ssdram', '16gb', 'ddr4', 'ram.processor', 'intel', 'core', 'i7-7700hq.graphics', 'card', 'nvidia', 'gtx', '1080', '8gb.operating', 'system', 'windows', '10', 'home.weight', '5.4', 'lbs.you', 'watch', 'video', 'review', 'dave2d', 'know', 'read', 'detailed', 'written', 'review.check', 'price', 'amazonfinal', 'words', 'spending', 'quite', 'made', 'post', 'looking', 'best', 'laptops', 'deep', 'learning', 'machine', 'learning', '2018'], ['found', 'right', 'choice', 'laptops', 'would', 'like', 'hear'], ['shoot', 'comments', 'below.you', 'able', 'use', 'laptop', 'efficiently', 'training', 'deep', 'neural', 'networks.however', 'want', 'train', 'lots', 'small', 'networks', 'basic', 'training', 'deploying', 'training', 'script', 'heavy', 'machine', 'hell', 'bent', 'buying', 'laptop', 'training', '’', 'suggest', 'buy', 'gaming', 'laptop.asus', 'acer', 'good', 'options'], ['run', 'linux', 'like', 'pro.these', 'decent', 'gpus', 'give', 'good', 'performance', 'training', 'small', 'networks.this', 'convenient', 'setting', 'external', 'gpu', 'another', 'laptop.see', 'macs', 'macs', 'compatible', 'nvidia', \"'s\", 'pascal', 'graphics', 'starting', 'titan', 'xpbut', '’', 'think', 'invest', 'laptop', 'heavy', 'machine', 'learning.build', 'customised', 'heavy', 'duty', 'machine'], ['article', 'shared', 'multiple', 'times', 'topic', 'build', 'deep', 'learning', 'rig', '800', '–', 'towards', 'data', 'science', '–', 'mediumthere', 'various', 'good', 'articles', 'quora', 'elsewhere', 'setting', 'machine', 'deep', 'learning.i', 'believe', 'today', '’', 'day', 'age', 'gpus', 'upgraded', 'often', '’', 'want', 'left', 'behind', 'invested', 'heavily', 'older', 'piece', 'hardware.rent', 'suitable', 'aws', 'instance'], ['used', 'find', 'one', 'easiest', 'services', 'configure', 'use.rent', 'google', 'cloud', 'platform', 'instance'], ['used', 'little'], ['personally', 'find', 'configuration', 'interface', 'complicated', 'aws'], ['google', 'churns', 'tpus', 'tensor', 'processing', 'units', 'soon', 'suspect', 'google', 'cloud', 'platform', 'service', 'host', 'devices', 'time', 'players', 'industry', 'develop', 'similar', 'processors.rent', 'microsoft', 'azure', 'instance'], ['’', 'experience', 'area', '’', 'say', 'much.you', 'need', 'decent/average', 'laptop'], ['develop', 'models', 'mock', 'training', 'deploy', 'remote', 'server.this', 'train', 'neural', 'nets'], ['design', 'macbook', 'air', 'train', 'aws', 'instance'], ['guidance', 'see', 'article', 'wrote', 'recently', 'semantic', 'segmentation', 'urban', 'street', 'scenes', 'mathematica.40.4k', 'views', '·', 'view', 'upvoters', 'recommendedallamey', 'tilvesponsored', 'yekaliva.aiunleash', 'power', 'chat-bot', 'less', '10', 'mins.engage', 'customers', '24/7', '12+', 'social', 'channels'], ['start', 'free', 'plan.sign', 'yekaliva.ai', 'lucas', 'shenlucas', 'shen', 'data', 'engineer'], ['stay', 'hungry', 'still', 'foolish.updated', 'jan', '12', '2017microsoft', 'going', 'alpha', 'gpu', 'cloud', 'instance', 'way', 'powerful', 'aws', 'offering'], ['1', 'laptop', 'pc', 'irrelevant', 'case', 'since', 'terminals', 'access', 'computation', 'cloud.however', 'insist', 'laptop', 'could', 'good', 'local', 'experiments', 'small', 'data'], ['mac', 'pretty', 'bad', 'choice', \"'s\", 'gpu', 'usually', 'supported', 'current', 'deep', 'learning', 'framework'], ['system76', 'offers', 'decent', 'cost', 'performance', 'value', '2', 'running', 'ubuntu.update', '1/12/2017', 'aws', 'azure', 'provide', 'high', 'end', 'gpu', 'instances'], ['1', '8', '16', 'gpus', 'types.in', 'case', 'single', 'gpu', 'instance', '’', 'performance', 'really', 'bad', 'titan', 'x', 'home', 'pc', 'already', 'around', '2x-3x', 'faster', 'single', 'gpu', 'instance', '’', 'want', 'build', '8', '16', 'gpu', 'rack', 'home.you', 'need', 'fast', 'enough', 'single', 'gpu', 'experiments', 'locally', 'sample', 'data', 'verify', 'many', 'things', 'going', 'full', 'scale.after', 'experiments', 'need', '8', '16', 'gpus', 'instance', 'finish', 'job.so', 'laptop', 'wise', 'would', 'find', 'cheapest', 'nvidia', 'gtx', '1080', 'laptop'], ['forget', 'fancy', 'monitor', 'glowing', 'keyboard', 'need', 'monitor', '1080'], ['1080', 'laptop', 'form', 'factor', 'still', 'expensive'], ['often', 'coding', 'deep', 'learning', 'bart', 'train', 'friends', 'house', 'starbucks', '1.5k', 'usd', 'enough', 'build', 'decent', '1080', 'pc', 'cost', 'effective', 'solution'], ['know', 'get', 'buy', '1.5k', 'macbook', 'pro…'], ['deep', 'learning', '1.5k', 'macbook', 'pro', 'league', '300', 'chromebook.footnotes', '1', 'introduction', 'nvidia', 'gpus', 'azure', '2', 'system76', 'ubuntu', 'laptops', 'desktops', 'servers78.8k', 'views', '·', 'view', 'upvoters', '·', 'view', 'sharers', 'ad', 'quora', 'businessa', 'great', 'advertising', 'solution', 'get', 'high', 'intent', 'leads.quora', 'advertising', 'allows', 'influence', 'people', 'consideration', 'phase', 'purchase', 'process.start', 'quora.com', 'sanskar', 'jainsanskar', 'jain', 'successfully', 'completed', 'dozens', 'major', 'ai', 'ml', 'projects.answered', 'jul', '19hey', 'pals', 'today', \"'m\", 'gon', 'na', 'list', 'best', 'laptops', 'desktops', 'perfect', 'deep', 'learning', 'training', 'neural', 'networks', 'running', 'heavy', 'machine', 'learning', 'tasks'], ['sense', 'computers', 'designed', 'artificial', 'intelligence'], ['best', 'machine', 'learning', 'best', 'programming'], ['basic', 'requirement', 'system', 'must', 'performing', 'ai', 'tasks', 'smoothly', '...', 'cpu', 'core', 'i7', 'minimum', '3.0', 'ghz', 'least', 'quad', 'core', 'ram', '16gb', '32gbgpu', 'nvidia', 'graphics', 'minimum', '3gb', 'like', '8gb', 'like', 'geforce', 'gtx', '1080ti', 'auxiliary', 'storage', '512gb', 'ssd', '1tb', 'hdd', 'hybrid.on', 'grounds', 'chose', 'configuration'], ['gpu', 'chose', 'nvidia', 'company', \"'s\", 'gpu', 'cuda', 'cudnn'], ['api/framework', 'allow', 'run', 'heavy', 'tasks', 'like', 'training', 'network', 'run', 'gpu', 'instead', 'cpu'], ['type', 'ai', 'tasks', 'run', 'efficiently', 'gpu', \"'s\", 'almost', '300', 'faster'], ['nvidia', \"'s\", 'geforce', 'gtx', 'series', 'specially', 'designed', 'artificial', 'intelligence', 'enthusiasts'], ['ram', 'important', 'thing', 'take', 'consideration', 'magic', 'happens'], ['ram', 'means', 'load', 'amount', 'data', 'amount', 'data', 'ram', 'means', 'execute', 'process', 'faster', 'anything', 'else'], ['high', 'capacity', 'ram', 'means', 'multi-tasking', 'easily', 'ai', 'model', 'training', 'phase'], ['hence', 'recommendation', 'minimum', '16gb', 'ram'], ['cpu', 'cpu', 'core', 'everything'], ['intel', 'core', 'i7', 'processor', 'minimum', '7th', 'generation', 'provides', 'high', 'processing', 'power', 'even', 'baseline', 'condition', 'turbo', 'boosts', 'speed', 'things', 'hell'], ['storage', 'increasing', 'size', 'datasets/databases', 'like', 'imagenet', 'imdb', \"'s\", 'dataset', 'system', 'must', 'high', 'storage', 'capacity', 'store', 'locally', 'processing', 'network', 'pain', 'ass'], ['survived', 'till', 'need', 'panic', 'found', 'best', 'desktops/laptops', 'buy', 'satisfies']]"
   ]
  },
  {
   "cell_type": "code",
   "execution_count": 3,
   "metadata": {},
   "outputs": [
    {
     "data": {
      "text/plain": [
       "'\\nother contructor details\\nhttps://radimrehurek.com/gensim/models/fasttext.html\\nmax_vocab_size \\n\\nread documentation its imp\\n'"
      ]
     },
     "execution_count": 3,
     "metadata": {},
     "output_type": "execute_result"
    }
   ],
   "source": [
    "from gensim.models import FastText\n",
    "\n",
    "model = FastText(sentences, min_count=4,size= 50  )\n",
    "'''\n",
    "\n",
    "read documentation its imp\n",
    "min_count (int, optional) – The model ignores all words with total frequency lower than this\n",
    "size (int, optional) – Dimensionality of the word vectors.\n",
    "\n",
    "other contructor details\n",
    "https://radimrehurek.com/gensim/models/fasttext.html\n",
    "max_vocab_size \n",
    "\n",
    "'''"
   ]
  },
  {
   "cell_type": "code",
   "execution_count": 4,
   "metadata": {},
   "outputs": [
    {
     "name": "stdout",
     "output_type": "stream",
     "text": [
      "(178, 50)\n"
     ]
    },
    {
     "name": "stderr",
     "output_type": "stream",
     "text": [
      "C:\\Users\\DBCE\\Anaconda3\\envs\\tf_gpu\\lib\\site-packages\\ipykernel_launcher.py:1: DeprecationWarning: Call to deprecated `__getitem__` (Method will be removed in 4.0.0, use self.wv.__getitem__() instead).\n",
      "  \"\"\"Entry point for launching an IPython kernel.\n"
     ]
    }
   ],
   "source": [
    "X = model[model.wv.vocab]\n",
    "print(X.shape)"
   ]
  },
  {
   "cell_type": "code",
   "execution_count": 5,
   "metadata": {},
   "outputs": [],
   "source": [
    "words = list(model.wv.vocab)"
   ]
  },
  {
   "cell_type": "code",
   "execution_count": 6,
   "metadata": {},
   "outputs": [
    {
     "name": "stdout",
     "output_type": "stream",
     "text": [
      "['best', 'laptop', 'machine', 'learning', 'artificial', 'intelligence', 'deep', 'system', 'time', 'budget', 'personal', 'one', 'want', 'carry', 'around', '–', 'training', 'minimum', 'nvidia', 'gpus', 'gpu', 'find', 'laptops', 'gaming', 'specs', 'used', 'ram', 'cpu', 'build', 'pc', 'price', 'compared', 'give', 'high', 'external', 'buy', 'like', 'asus', 'rog', 'graphics', 'train', 'comes', 'power', 'powerful', \"'s\", '2018', 'good', 'get', '’', 'need', 'going', 'talk', '7', 'great', 'value', '5', 'getting', 'right', 'would', 'least', 'surely', 'intel', 'core', 'i7', 'even', 'may', 'performance', 'issues', 'decent', 'without', '10', '16gb', '32gb', 'means', 'heavy', 'list', 'lightweight', 'portable', 'travel', '6', 'top', '1', 'tensorbook', '2', 'dell', 'inspiron', 'cheapest', '3', 'eluktronics', 'pro-x', 'p650hs-g', '4', 'gigabyte', 'aero', 'money', 'acer', 'predator', 'cheap', 'zephyrus', 'gx501', 'triton', 'i7-8750h', 'gtx', '1070', '8gb', 'check', 'i7-7700hq', '15x', 'choice', '1080', '700', '15.6', 'display', 'tasks', 'storage', 'offered', 'ssd', 'things', '8th', 'gen', 'processor', 'i.e', 'multitasking', 'running', 'basic', 'expect', 'hours', 'battery', 'life', 'quality', 'recap', 'screen', 'size', 'inches.storage', '512gb', 'ssd.ram', 'ddr4', 'ram.processor', 'card', '8gb.operating', 'lbs.check', 'panel', 'faster', 'weighs', 'kg', 'think', 'slightly', 'pcie', 'pretty', 'everything', 'say', 'performs', 'well', 'games', 'fps', 'windows', 'type', 'read', 'amazon', 'almost', 'geforce', 'suitable', 'ports', 'usb', 'port', '3.0', 'hdmi', 'thunderbolt', 'cost', 'full', 'model', 'made', 'mbps', 'run', 'data', 'aws', 'instance', 'ai']\n",
      "178\n"
     ]
    }
   ],
   "source": [
    "print(words)\n",
    "print(len(words))"
   ]
  },
  {
   "cell_type": "code",
   "execution_count": 7,
   "metadata": {},
   "outputs": [
    {
     "data": {
      "text/plain": [
       "False"
      ]
     },
     "execution_count": 7,
     "metadata": {},
     "output_type": "execute_result"
    }
   ],
   "source": [
    "a = 'game' #'gaming'\n",
    "a in model.wv.vocab"
   ]
  },
  {
   "cell_type": "markdown",
   "metadata": {},
   "source": [
    "# Though word every is not there in vocab it sttill can initialize to nearest word"
   ]
  },
  {
   "cell_type": "code",
   "execution_count": 8,
   "metadata": {},
   "outputs": [
    {
     "data": {
      "text/plain": [
       "[('games', 0.6506842374801636),\n",
       " ('8gb.operating', 0.6035445928573608),\n",
       " ('one', 0.6034853458404541),\n",
       " ('expect', 0.5957025289535522),\n",
       " ('gaming', 0.5949931740760803),\n",
       " ('ram.processor', 0.5887476205825806),\n",
       " ('data', 0.5886182188987732),\n",
       " ('battery', 0.5883515477180481),\n",
       " ('value', 0.587485134601593),\n",
       " ('processor', 0.5869329571723938)]"
      ]
     },
     "execution_count": 8,
     "metadata": {},
     "output_type": "execute_result"
    }
   ],
   "source": [
    "# model.wv.most_similar\n",
    "# or\n",
    "model.wv.most_similar_cosmul('game')\n",
    "# here  we get postion in model vocab and do enumerate to get corresponding index"
   ]
  },
  {
   "cell_type": "code",
   "execution_count": 9,
   "metadata": {},
   "outputs": [
    {
     "data": {
      "text/plain": [
       "0.313958406667836"
      ]
     },
     "execution_count": 9,
     "metadata": {},
     "output_type": "execute_result"
    }
   ],
   "source": [
    "model.wv.similarity('run', 'running')"
   ]
  },
  {
   "cell_type": "markdown",
   "metadata": {},
   "source": [
    "# word count of vocab to plot ZIPf's law"
   ]
  },
  {
   "cell_type": "code",
   "execution_count": null,
   "metadata": {},
   "outputs": [],
   "source": [
    "'''\n",
    "Instead of assigning all the Out of Vocabulary tokens to a common UNK vector (zeros), \n",
    "it is better to assign them a unique random vector. At-least this way when you find the similarity between them\n",
    "with any other word, each of them will be unique and the model can learn something out of it. In the UNK case,\n",
    "they will all be same and so all the UNK words will be treated as having the same context.\n",
    "\n",
    "I tried this approach and got a 3% accuracy improvement on the Quora Duplicate question pair detection dataset using an LSTM model.\n",
    "\n",
    "Doesn't matter that much if UNK word dist. is less\n",
    "\n",
    "the actual identity of the tokens ('41010') has any semantic significance (if not, a common strategy is to simply replace any numbers in your training data with a special token '<NUMBER>')\n",
    "If there is any semantic significance at all to numbers, in general. If not, I guess you wouldn't even need to get a vector for numeric terms, and you can simply skip over them when fetching vectors.\n",
    "\n",
    "Access <unk> token\n",
    "we can even map <Number> vector in number\n",
    "\n",
    "If the number of UNK is low the accuracy won't get affected a lot. If the number is higher better to train embedding or use fast text.\n",
    "'''"
   ]
  },
  {
   "cell_type": "markdown",
   "metadata": {},
   "source": [
    "# save trained embedding to key and value as txt file"
   ]
  },
  {
   "cell_type": "code",
   "execution_count": null,
   "metadata": {},
   "outputs": [],
   "source": [
    "#model.save_word2vec_format('./local_fastext_100.txt', binary=False)\n"
   ]
  },
  {
   "cell_type": "markdown",
   "metadata": {},
   "source": [
    "# Handling OOV words"
   ]
  },
  {
   "cell_type": "code",
   "execution_count": 10,
   "metadata": {},
   "outputs": [
    {
     "name": "stdout",
     "output_type": "stream",
     "text": [
      "xyz not found\n",
      "xyz not found\n"
     ]
    },
    {
     "data": {
      "text/plain": [
       "'\\n1. manually check if embedding are good enough\\n2. append OOV list to orginal if they are good enough\\n3. zipfs law \\n'"
      ]
     },
     "execution_count": 10,
     "metadata": {},
     "output_type": "execute_result"
    }
   ],
   "source": [
    "words_not_found = ['xyz','every','run','sure','perform','play','cap','dog','cheap','xyz']\n",
    "OOV = []\n",
    "\n",
    "for word in words_not_found.items():\n",
    "    \n",
    "    try:                \n",
    "        thr = model.wv.most_similar_cosmul(word) # model.wv.most_similar(word)\n",
    "        #print(thr[0][1], \"  \", thr[0][0])\n",
    "        \n",
    "        if thr[0][1] > 0.48:   \n",
    "            # if word found and is abv threashold then\n",
    "            OOV.append(thr[0][0])\n",
    "        else:            \n",
    "            # if found with below threashold\n",
    "            OOV.append('UNK-!')            \n",
    "    \n",
    "    except: \n",
    "        #if no mkatch found\n",
    "        OOV.append('<UNK>')\n",
    "        print(word, 'not found')\n",
    "\n",
    "\n",
    "# also manually check worst substitution we are going to make are really good enough\n",
    "        \n",
    "'''\n",
    "1. manually check if embedding are good enough\n",
    "2. append OOV list to orginal if they are good enough\n",
    "3. zipfs law \n",
    "'''\n",
    "\n"
   ]
  },
  {
   "cell_type": "code",
   "execution_count": 49,
   "metadata": {},
   "outputs": [
    {
     "name": "stdout",
     "output_type": "stream",
     "text": [
      "['UNK', 'everything', 'faster', 'surely', 'performs', 'display', 'recap', 'rog', 'cheapest', 'UNK']\n"
     ]
    }
   ],
   "source": [
    "print(OOV)\n",
    "#words_not_found = ['xyz','every','run','sure','perform','play','cap','dog','cheap','xyz']"
   ]
  },
  {
   "cell_type": "code",
   "execution_count": 55,
   "metadata": {},
   "outputs": [
    {
     "name": "stdout",
     "output_type": "stream",
     "text": [
      "UNK\n",
      "everything\n",
      "faster\n",
      "surely\n",
      "performs\n",
      "display\n",
      "recap\n",
      "rog\n",
      "cheapest\n",
      "UNK\n"
     ]
    }
   ],
   "source": [
    "for w in OOV:\n",
    "   print(w) "
   ]
  }
 ],
 "metadata": {
  "kernelspec": {
   "display_name": "Python 3",
   "language": "python",
   "name": "python3"
  },
  "language_info": {
   "codemirror_mode": {
    "name": "ipython",
    "version": 3
   },
   "file_extension": ".py",
   "mimetype": "text/x-python",
   "name": "python",
   "nbconvert_exporter": "python",
   "pygments_lexer": "ipython3",
   "version": "3.6.8"
  }
 },
 "nbformat": 4,
 "nbformat_minor": 2
}
