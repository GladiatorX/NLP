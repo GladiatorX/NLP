{
 "cells": [
  {
   "cell_type": "markdown",
   "metadata": {},
   "source": [
    "* pat to BERT model location uncased D:\\dataset\\BERT_model\\uncased_L-12_H-768_A-12"
   ]
  },
  {
   "cell_type": "code",
   "execution_count": 1,
   "metadata": {},
   "outputs": [],
   "source": [
    "import pickle\n",
    "import h5py\n",
    "import pandas as pd\n",
    "import numpy as np\n",
    "\n",
    "INPUT_TEXT_LENGTH = 294 # from previous notebook\n",
    "\n",
    "df_preprocessed = pd.read_pickle(\"./V1_preProcessed.pkl\")"
   ]
  },
  {
   "cell_type": "code",
   "execution_count": 2,
   "metadata": {},
   "outputs": [
    {
     "data": {
      "text/html": [
       "<div>\n",
       "<style scoped>\n",
       "    .dataframe tbody tr th:only-of-type {\n",
       "        vertical-align: middle;\n",
       "    }\n",
       "\n",
       "    .dataframe tbody tr th {\n",
       "        vertical-align: top;\n",
       "    }\n",
       "\n",
       "    .dataframe thead th {\n",
       "        text-align: right;\n",
       "    }\n",
       "</style>\n",
       "<table border=\"1\" class=\"dataframe\">\n",
       "  <thead>\n",
       "    <tr style=\"text-align: right;\">\n",
       "      <th></th>\n",
       "      <th>review</th>\n",
       "      <th>sentiment</th>\n",
       "      <th>word_count</th>\n",
       "    </tr>\n",
       "  </thead>\n",
       "  <tbody>\n",
       "    <tr>\n",
       "      <th>49996</th>\n",
       "      <td>movie nothing like book think writer screenpla...</td>\n",
       "      <td>0.0</td>\n",
       "      <td>55</td>\n",
       "    </tr>\n",
       "    <tr>\n",
       "      <th>49997</th>\n",
       "      <td>first watched flatliners amaze necessary featu...</td>\n",
       "      <td>1.0</td>\n",
       "      <td>89</td>\n",
       "    </tr>\n",
       "    <tr>\n",
       "      <th>49998</th>\n",
       "      <td>see movie find hard understand many people see...</td>\n",
       "      <td>1.0</td>\n",
       "      <td>87</td>\n",
       "    </tr>\n",
       "    <tr>\n",
       "      <th>49999</th>\n",
       "      <td>work class romantic drama director martin ritt...</td>\n",
       "      <td>1.0</td>\n",
       "      <td>92</td>\n",
       "    </tr>\n",
       "    <tr>\n",
       "      <th>50000</th>\n",
       "      <td>admit great majority film release say dozen ma...</td>\n",
       "      <td>2.0</td>\n",
       "      <td>73</td>\n",
       "    </tr>\n",
       "    <tr>\n",
       "      <th>50001</th>\n",
       "      <td>take low budget inexperienced actor double pro...</td>\n",
       "      <td>2.0</td>\n",
       "      <td>88</td>\n",
       "    </tr>\n",
       "  </tbody>\n",
       "</table>\n",
       "</div>"
      ],
      "text/plain": [
       "                                                  review  sentiment  \\\n",
       "49996  movie nothing like book think writer screenpla...        0.0   \n",
       "49997  first watched flatliners amaze necessary featu...        1.0   \n",
       "49998  see movie find hard understand many people see...        1.0   \n",
       "49999  work class romantic drama director martin ritt...        1.0   \n",
       "50000  admit great majority film release say dozen ma...        2.0   \n",
       "50001  take low budget inexperienced actor double pro...        2.0   \n",
       "\n",
       "       word_count  \n",
       "49996          55  \n",
       "49997          89  \n",
       "49998          87  \n",
       "49999          92  \n",
       "50000          73  \n",
       "50001          88  "
      ]
     },
     "execution_count": 2,
     "metadata": {},
     "output_type": "execute_result"
    }
   ],
   "source": [
    "df_preprocessed[49996:50002]"
   ]
  },
  {
   "cell_type": "code",
   "execution_count": 3,
   "metadata": {},
   "outputs": [
    {
     "data": {
      "text/plain": [
       "Index(['review', 'sentiment', 'word_count'], dtype='object')"
      ]
     },
     "execution_count": 3,
     "metadata": {},
     "output_type": "execute_result"
    }
   ],
   "source": [
    "df_BERT = pd.DataFrame()\n",
    "df_preprocessed.columns"
   ]
  },
  {
   "cell_type": "markdown",
   "metadata": {},
   "source": [
    "**Column1** :- can be just a count, or even just the same number or letter for every row\n",
    "\n",
    "**Column2** :-  A label for the row as an int, for classification\n",
    "\n",
    "**Column3** :-  A column of all the same letter -- Its a throw-away column that model expects\n",
    "\n",
    "**Column4** :- actual review / sentences\n",
    "\n",
    "**finally convert it to tsv without any column header**"
   ]
  },
  {
   "cell_type": "code",
   "execution_count": 4,
   "metadata": {},
   "outputs": [],
   "source": [
    "\n",
    "df_BERT = df_preprocessed[['review', 'sentiment']]"
   ]
  },
  {
   "cell_type": "code",
   "execution_count": 5,
   "metadata": {},
   "outputs": [
    {
     "name": "stderr",
     "output_type": "stream",
     "text": [
      "C:\\Users\\DBCE\\Anaconda3\\envs\\tf_gpu\\lib\\site-packages\\ipykernel_launcher.py:4: SettingWithCopyWarning: \n",
      "A value is trying to be set on a copy of a slice from a DataFrame.\n",
      "Try using .loc[row_indexer,col_indexer] = value instead\n",
      "\n",
      "See the caveats in the documentation: http://pandas.pydata.org/pandas-docs/stable/indexing.html#indexing-view-versus-copy\n",
      "  after removing the cwd from sys.path.\n"
     ]
    }
   ],
   "source": [
    "\n",
    "df_BERT.insert(0, 'column1', df_BERT.index)\n",
    "df_BERT.insert(2, 'column3', 'a')\n",
    "df_BERT['sentiment'] = df_BERT['sentiment'].astype('int64')"
   ]
  },
  {
   "cell_type": "code",
   "execution_count": 6,
   "metadata": {},
   "outputs": [],
   "source": [
    "'''\n",
    "\n",
    "#Stratiy on y_train data\n",
    "X_train,X_test,y_train,y_test = train_test_split( X_train, y_train, test_size=0.04,stratify=y_train, random_state=42) \n",
    "\n",
    "ut hold on! The test dataset, test.tsv, has a slightly different format. \n",
    "It gets a header line and the only two fields included are the ID and Text - no label column. \n",
    "That's why I created test_original.tsv in the above step (keep this around as it is needed later)\n",
    "'''\n",
    "\n",
    "from sklearn.model_selection import train_test_split\n",
    "\n",
    "\n",
    "df = pd.DataFrame()\n",
    "df = df_BERT[0:49999]\n",
    "\n",
    "'''\n",
    "shuffle data\n",
    "split data\n",
    "than convert to tsv\n",
    "and drop column for testing as nedded\n",
    "'''\n",
    "\n",
    "X= df #PADDED VERSION OF DATA\n",
    "y= df['sentiment'] # LABELS OF DATA\n",
    "\n",
    "X_train, X_val, y_train, y_val = train_test_split( X, y, test_size=0.10,stratify=y, random_state=42)                #30%\n",
    "#  #4%\n",
    "#Stratiy on y_train data\n",
    "X_train,X_test,y_train,y_test = train_test_split( X_train, y_train, test_size=0.10,stratify=y_train, random_state=42) \n",
    "#df.to_tsv(header=None,index=False)\n",
    "# if you are creating test.tsv, set header=True instead of False"
   ]
  },
  {
   "cell_type": "code",
   "execution_count": 12,
   "metadata": {},
   "outputs": [
    {
     "name": "stdout",
     "output_type": "stream",
     "text": [
      "Train data: 40499    40499\n",
      "Validation data: 5000    5000\n",
      "Test data: 4500    4500\n"
     ]
    },
    {
     "data": {
      "text/plain": [
       "'\\nX_train = np.asarray(X_train)\\nX_val = np.asarray(X_val)\\nX_test = np.asarray(X_test)\\n\\ny_train = np.asarray(y_train)\\ny_val = np.asarray(y_val)\\ny_test = np.asarray(y_test)\\n'"
      ]
     },
     "execution_count": 12,
     "metadata": {},
     "output_type": "execute_result"
    }
   ],
   "source": [
    "print(\"Train data:\",len(X_train),'  ',len(y_train))\n",
    "print(\"Validation data:\",len(X_val),'  ',len(y_val))\n",
    "print(\"Test data:\",len(X_test),'  ',len(y_test))\n",
    "#print(type(y_train))\n",
    "\n",
    "'''\n",
    "X_train = np.asarray(X_train)\n",
    "X_val = np.asarray(X_val)\n",
    "X_test = np.asarray(X_test)\n",
    "\n",
    "y_train = np.asarray(y_train)\n",
    "y_val = np.asarray(y_val)\n",
    "y_test = np.asarray(y_test)\n",
    "'''"
   ]
  },
  {
   "cell_type": "code",
   "execution_count": 7,
   "metadata": {},
   "outputs": [],
   "source": [
    "\n",
    "'''\n",
    "#SMALL\n",
    "\n",
    "X_train = X_train[0:2000]\n",
    "X_test = X_test[0:1000]\n",
    "X_val = X_val[0:1000]\n",
    "\n",
    "\n",
    "X_train.to_csv('./trainSmall.tsv', sep='\\t', index=False, header=False)\n",
    "X_val.to_csv('./valSmall.tsv', sep='\\t', index=False, header=True)\n",
    "X_test.to_csv('./testSmall.tsv', sep='\\t', index=False, header=True)'''\n"
   ]
  },
  {
   "cell_type": "code",
   "execution_count": 36,
   "metadata": {},
   "outputs": [],
   "source": [
    "X_train.to_csv('./train.tsv', sep='\\t', index=False, header=False)\n",
    "X_val.to_csv('./val.tsv', sep='\\t', index=False, header=True)\n",
    "X_test.to_csv('./test.tsv', sep='\\t', index=False, header=True)"
   ]
  },
  {
   "cell_type": "code",
   "execution_count": 34,
   "metadata": {},
   "outputs": [
    {
     "data": {
      "text/html": [
       "<div>\n",
       "<style scoped>\n",
       "    .dataframe tbody tr th:only-of-type {\n",
       "        vertical-align: middle;\n",
       "    }\n",
       "\n",
       "    .dataframe tbody tr th {\n",
       "        vertical-align: top;\n",
       "    }\n",
       "\n",
       "    .dataframe thead th {\n",
       "        text-align: right;\n",
       "    }\n",
       "</style>\n",
       "<table border=\"1\" class=\"dataframe\">\n",
       "  <thead>\n",
       "    <tr style=\"text-align: right;\">\n",
       "      <th></th>\n",
       "      <th>column1</th>\n",
       "      <th>sentiment</th>\n",
       "      <th>column3</th>\n",
       "      <th>review</th>\n",
       "    </tr>\n",
       "  </thead>\n",
       "  <tbody>\n",
       "    <tr>\n",
       "      <th>47486</th>\n",
       "      <td>47486</td>\n",
       "      <td>0</td>\n",
       "      <td>a</td>\n",
       "      <td>speck white various shape beautiful nude rando...</td>\n",
       "    </tr>\n",
       "    <tr>\n",
       "      <th>1385</th>\n",
       "      <td>1385</td>\n",
       "      <td>1</td>\n",
       "      <td>a</td>\n",
       "      <td>like people know come late stinger three year ...</td>\n",
       "    </tr>\n",
       "    <tr>\n",
       "      <th>38074</th>\n",
       "      <td>38074</td>\n",
       "      <td>0</td>\n",
       "      <td>a</td>\n",
       "      <td>become big fan carpenter really enjoy movie fe...</td>\n",
       "    </tr>\n",
       "    <tr>\n",
       "      <th>29998</th>\n",
       "      <td>29998</td>\n",
       "      <td>1</td>\n",
       "      <td>a</td>\n",
       "      <td>god bless joe amato love italian horror cheese...</td>\n",
       "    </tr>\n",
       "    <tr>\n",
       "      <th>9586</th>\n",
       "      <td>9586</td>\n",
       "      <td>0</td>\n",
       "      <td>a</td>\n",
       "      <td>copy vhs think television network play every y...</td>\n",
       "    </tr>\n",
       "  </tbody>\n",
       "</table>\n",
       "</div>"
      ],
      "text/plain": [
       "       column1  sentiment column3  \\\n",
       "47486    47486          0       a   \n",
       "1385      1385          1       a   \n",
       "38074    38074          0       a   \n",
       "29998    29998          1       a   \n",
       "9586      9586          0       a   \n",
       "\n",
       "                                                  review  \n",
       "47486  speck white various shape beautiful nude rando...  \n",
       "1385   like people know come late stinger three year ...  \n",
       "38074  become big fan carpenter really enjoy movie fe...  \n",
       "29998  god bless joe amato love italian horror cheese...  \n",
       "9586   copy vhs think television network play every y...  "
      ]
     },
     "execution_count": 34,
     "metadata": {},
     "output_type": "execute_result"
    }
   ],
   "source": [
    "X_test.head()"
   ]
  },
  {
   "cell_type": "markdown",
   "metadata": {},
   "source": [
    "'''\n",
    " python bert/run_classifier.py \\\n",
    "--task_name=cola \\\n",
    "--do_train =true \\\n",
    "--do_eval=true \\\n",
    "--vocab_file=D:\\dataset\\BERT_model\\uncased_L-12_H-768_A-12/vocab.txt \\\n",
    "--bert_config_file=D:\\dataset\\BERT_model\\uncased_L-12_H-768_A-12/bert_config.json \\\n",
    "--init_checkpoint= D:\\dataset\\BERT_modelD:\\dataset\\BERT_model/bert_model.ckpt/ \\\n",
    "--max_seq_length=128 \\\n",
    "--train_batch_size=32 \\\n",
    "--learning_rate=2e-5 \\\n",
    "--num_train_epochs=3.0 \\\n",
    "--data_dir= bert/bert_input/ \\\n",
    "--output_dir=./bert_output/\n",
    "\n",
    "\n",
    "\n",
    "python bert/run_classifier.py \\ --task_name=cola \\ --do_train =true \\ ----do_eval=true \\ --data_dir= D:\\NLP\\andrew\\nlp\\9. BERT\\bert\\bert_input\\ --vocab_file=D:\\dataset\\BERT_model\\uncased_L-12_H-768_A-12/vocab.txt \\ --bert_config_file=D:\\dataset\\BERT_model\\uncased_L-12_H-768_A-12/bert_config.json \\ --init_checkpoint= D:\\dataset\\BERT_modelD:\\dataset\\BERT_model/bert_model.ckpt/ \\ --max_seq_length=128 \\ --train_batch_size=32 \\ --learning_rate=2e-5 \\ --num_train_epochs=3.0 \\ --data_dir=bert/bert_input/ \\ --output_dir=./bert_output/\n",
    "\n",
    "\n",
    "'''\n",
    "https://blog.insightdatascience.com/using-bert-for-state-of-the-art-pre-training-for-natural-language-processing-1d87142c29e7\n",
    "https://github.com/craic/bert_paper_classification\n",
    "https://ai.googleblog.com/2018/11/open-sourcing-bert-state-of-art-pre.html\n",
    "https://www.depends-on-the-definition.com/named-entity-recognition-with-bert/"
   ]
  },
  {
   "cell_type": "code",
   "execution_count": null,
   "metadata": {},
   "outputs": [],
   "source": []
  }
 ],
 "metadata": {
  "kernelspec": {
   "display_name": "Python [conda env:tf_gpu]",
   "language": "python",
   "name": "conda-env-tf_gpu-py"
  },
  "language_info": {
   "codemirror_mode": {
    "name": "ipython",
    "version": 3
   },
   "file_extension": ".py",
   "mimetype": "text/x-python",
   "name": "python",
   "nbconvert_exporter": "python",
   "pygments_lexer": "ipython3",
   "version": "3.6.8"
  }
 },
 "nbformat": 4,
 "nbformat_minor": 2
}
