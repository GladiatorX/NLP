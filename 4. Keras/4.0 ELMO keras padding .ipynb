{
 "cells": [
  {
   "cell_type": "markdown",
   "metadata": {},
   "source": [
    "# elmo HANDLE SPECIAL char <PAD>\n",
    "* The allennlp code will automatically handle padding when converting your text to ids, e.g. in allennlp.modules.elmo.batch_to_ids, so you don't have worry about adding padding tokens. Internally it accomplishes this by setting all of the character ids to the masking id 0. Adding special tokens like <PAD> to your input will cause ELMo to treat it just like any other token and have an unknown but likely undesired impact."
   ]
  },
  {
   "cell_type": "code",
   "execution_count": 15,
   "metadata": {},
   "outputs": [],
   "source": [
    "import numpy as np\n",
    "from keras.preprocessing.text import one_hot, Tokenizer\n",
    "from keras.preprocessing.sequence import pad_sequences\n",
    "from nltk.tokenize import sent_tokenize, word_tokenize\n",
    "from keras.preprocessing import sequence\n",
    "\n",
    "docs = ['Well done!',\n",
    "\t\t'Good work',\n",
    "\t\t'Great effort',\n",
    "\t\t'nice work',\n",
    "\t\t'Excellent!',\n",
    "\t\t'Weak',\n",
    "\t\t'Poor effort!',\n",
    "\t\t'not good',\n",
    "\t\t'poor work',\n",
    "\t\t'Could have done better.']\n",
    "# define class labels\n",
    "labels = np.array([1,1,1,1,1,0,0,0,0,0])\n"
   ]
  },
  {
   "cell_type": "markdown",
   "metadata": {},
   "source": [
    "# 1. word level padding steps\n",
    "* use tokenizer to convert to int\n",
    "* do pdding\n",
    "* convt back to string\n",
    "* n feed it to elmo embedding"
   ]
  },
  {
   "cell_type": "markdown",
   "metadata": {},
   "source": [
    "# Using keras tokenizer API"
   ]
  },
  {
   "cell_type": "code",
   "execution_count": 5,
   "metadata": {},
   "outputs": [],
   "source": [
    "\n",
    "from keras.preprocessing.text import Tokenizer\n",
    "\n",
    "review = [ 'The quick brown fox jumped over the lazy dog',\n",
    "          'lt max len of seq is considered larget sent ',\n",
    "         ' WE CAN PASS VOCAB, SO WHEN CONVERTIN TO SEQ']\n",
    "\n",
    "        \n",
    "# create the tokenizer\n",
    "tokenizer = Tokenizer()# HERE WE CAN PASS VOCAB, SO WHEN CONVERTIN TO SEQ; IT WOULD IGNORE ALL VALUES ABOVE THAT DEFINED VOCAB \n",
    "# fit the tokenizer on the documents\n",
    "tokenizer.fit_on_texts(review)\n",
    "seq = tokenizer.texts_to_sequences(review)"
   ]
  },
  {
   "cell_type": "code",
   "execution_count": 6,
   "metadata": {},
   "outputs": [
    {
     "name": "stdout",
     "output_type": "stream",
     "text": [
      "[[1, 3, 4, 5, 6, 7, 1, 8, 9], [10, 11, 12, 13, 2, 14, 15, 16, 17], [18, 19, 20, 21, 22, 23, 24, 25, 2]]\n"
     ]
    }
   ],
   "source": [
    "print(seq)"
   ]
  },
  {
   "cell_type": "markdown",
   "metadata": {},
   "source": [
    "# Padding int token 1st"
   ]
  },
  {
   "cell_type": "code",
   "execution_count": 16,
   "metadata": {},
   "outputs": [],
   "source": [
    "padded_seq = sequence.pad_sequences(seq , maxlen=15,padding='pre', truncating='pre')"
   ]
  },
  {
   "cell_type": "code",
   "execution_count": 17,
   "metadata": {},
   "outputs": [
    {
     "data": {
      "text/plain": [
       "array([[ 0,  0,  0,  0,  0,  0,  1,  3,  4,  5,  6,  7,  1,  8,  9],\n",
       "       [ 0,  0,  0,  0,  0,  0, 10, 11, 12, 13,  2, 14, 15, 16, 17],\n",
       "       [ 0,  0,  0,  0,  0,  0, 18, 19, 20, 21, 22, 23, 24, 25,  2]])"
      ]
     },
     "execution_count": 17,
     "metadata": {},
     "output_type": "execute_result"
    }
   ],
   "source": [
    "padded_seq"
   ]
  },
  {
   "cell_type": "code",
   "execution_count": 34,
   "metadata": {},
   "outputs": [],
   "source": [
    "# inverse_map coz int tokens to word; as elmo takes word as input"
   ]
  },
  {
   "cell_type": "code",
   "execution_count": 9,
   "metadata": {},
   "outputs": [],
   "source": [
    "idx = tokenizer.word_index\n",
    "inverse_map = dict(zip(idx.values(), idx.keys()))"
   ]
  },
  {
   "cell_type": "markdown",
   "metadata": {},
   "source": [
    "# making padding as PAD , handle by elmo"
   ]
  },
  {
   "cell_type": "code",
   "execution_count": 23,
   "metadata": {},
   "outputs": [],
   "source": [
    "def tokens_to_string(tokens):\n",
    "    #'Yes' if fruit == 'Apple' else 'No'\n",
    "    # Map from tokens back to words.\n",
    "    #words = [inverse_map[token] for token in tokens if token != 0]\n",
    "    words = ['_PAD_' if token == 0 else inverse_map[token] for token in tokens ]\n",
    "    \n",
    "    # Concatenate all words.\n",
    "    text = \" \".join(words)\n",
    "\n",
    "    return text"
   ]
  },
  {
   "cell_type": "code",
   "execution_count": 24,
   "metadata": {},
   "outputs": [
    {
     "data": {
      "text/plain": [
       "'_PAD_ _PAD_ _PAD_ _PAD_ _PAD_ _PAD_ the quick brown fox jumped over the lazy dog'"
      ]
     },
     "execution_count": 24,
     "metadata": {},
     "output_type": "execute_result"
    }
   ],
   "source": [
    "#tokens_to_string([18, 19, 20, 21, 22, 23, 24, 25, 2])\n",
    "tokens_to_string([ 0,  0,  0,  0,  0,  0,  1,  3,  4,  5,  6,  7,  1,  8,  9])"
   ]
  },
  {
   "cell_type": "code",
   "execution_count": 25,
   "metadata": {},
   "outputs": [
    {
     "name": "stdout",
     "output_type": "stream",
     "text": [
      "['_PAD_', '_PAD_', '_PAD_', '_PAD_', '_PAD_', '_PAD_', 'the', 'quick', 'brown', 'fox', 'jumped', 'over', 'the', 'lazy', 'dog']\n"
     ]
    }
   ],
   "source": [
    "print(word_tokenize('_PAD_ _PAD_ _PAD_ _PAD_ _PAD_ _PAD_ the quick brown fox jumped over the lazy dog'))"
   ]
  },
  {
   "cell_type": "code",
   "execution_count": null,
   "metadata": {},
   "outputs": [],
   "source": [
    "max_len = 15\n",
    "new_XX = []\n",
    "for seq in token:\n",
    "    new_seq = []\n",
    "    for i in range(max_len):\n",
    "        try:\n",
    "            new_seq.append(seq[i])\n",
    "        except:\n",
    "            new_seq.append(\"__PAD__\")\n",
    "    new_XX.append(new_seq)\n",
    "XX = new_XX"
   ]
  },
  {
   "cell_type": "code",
   "execution_count": null,
   "metadata": {},
   "outputs": [],
   "source": [
    "XX"
   ]
  },
  {
   "cell_type": "markdown",
   "metadata": {},
   "source": [
    "# 2.  For character level"
   ]
  },
  {
   "cell_type": "code",
   "execution_count": 26,
   "metadata": {},
   "outputs": [],
   "source": [
    "#max_length = 4 # you can either mention in function pad_sequences \n",
    "#padded_docs = pad_sequences(docs, padding='post') #by default max len of seq is considered larget sent in corpous i.e 4\n",
    "sentences = ['Could have done better.']\n",
    "X = [[w[0] for w in s] for s in sentences]"
   ]
  },
  {
   "cell_type": "code",
   "execution_count": 27,
   "metadata": {},
   "outputs": [
    {
     "data": {
      "text/plain": [
       "[['C',\n",
       "  'o',\n",
       "  'u',\n",
       "  'l',\n",
       "  'd',\n",
       "  ' ',\n",
       "  'h',\n",
       "  'a',\n",
       "  'v',\n",
       "  'e',\n",
       "  ' ',\n",
       "  'd',\n",
       "  'o',\n",
       "  'n',\n",
       "  'e',\n",
       "  ' ',\n",
       "  'b',\n",
       "  'e',\n",
       "  't',\n",
       "  't',\n",
       "  'e',\n",
       "  'r',\n",
       "  '.']]"
      ]
     },
     "execution_count": 27,
     "metadata": {},
     "output_type": "execute_result"
    }
   ],
   "source": [
    "X"
   ]
  },
  {
   "cell_type": "code",
   "execution_count": 32,
   "metadata": {},
   "outputs": [],
   "source": [
    "\n",
    "new_X = []\n",
    "for seq in X:\n",
    "    new_seq = []\n",
    "    for i in range(35):\n",
    "        try:\n",
    "            new_seq.append(seq[i])\n",
    "        except:\n",
    "            new_seq.append(\"__PAD__\")\n",
    "    new_X.append(new_seq)\n",
    "X = new_X"
   ]
  },
  {
   "cell_type": "code",
   "execution_count": 33,
   "metadata": {},
   "outputs": [
    {
     "data": {
      "text/plain": [
       "[['C',\n",
       "  'o',\n",
       "  'u',\n",
       "  'l',\n",
       "  'd',\n",
       "  ' ',\n",
       "  'h',\n",
       "  'a',\n",
       "  'v',\n",
       "  'e',\n",
       "  ' ',\n",
       "  'd',\n",
       "  'o',\n",
       "  'n',\n",
       "  'e',\n",
       "  ' ',\n",
       "  'b',\n",
       "  'e',\n",
       "  't',\n",
       "  't',\n",
       "  '__PAD__',\n",
       "  '__PAD__',\n",
       "  '__PAD__',\n",
       "  '__PAD__',\n",
       "  '__PAD__',\n",
       "  '__PAD__',\n",
       "  '__PAD__',\n",
       "  '__PAD__',\n",
       "  '__PAD__',\n",
       "  '__PAD__',\n",
       "  '__PAD__',\n",
       "  '__PAD__',\n",
       "  '__PAD__',\n",
       "  '__PAD__',\n",
       "  '__PAD__']]"
      ]
     },
     "execution_count": 33,
     "metadata": {},
     "output_type": "execute_result"
    }
   ],
   "source": [
    "X"
   ]
  },
  {
   "cell_type": "code",
   "execution_count": null,
   "metadata": {},
   "outputs": [],
   "source": []
  }
 ],
 "metadata": {
  "kernelspec": {
   "display_name": "Python 3",
   "language": "python",
   "name": "python3"
  },
  "language_info": {
   "codemirror_mode": {
    "name": "ipython",
    "version": 3
   },
   "file_extension": ".py",
   "mimetype": "text/x-python",
   "name": "python",
   "nbconvert_exporter": "python",
   "pygments_lexer": "ipython3",
   "version": "3.6.8"
  }
 },
 "nbformat": 4,
 "nbformat_minor": 2
}
