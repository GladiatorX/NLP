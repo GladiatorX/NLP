{
 "cells": [
  {
   "cell_type": "markdown",
   "metadata": {},
   "source": [
    " * https://machinelearningmastery.com/save-load-keras-deep-learning-models/"
   ]
  },
  {
   "cell_type": "markdown",
   "metadata": {},
   "source": [
    "# tokenizer instance \n",
    "* see deploying pipeline"
   ]
  },
  {
   "cell_type": "code",
   "execution_count": null,
   "metadata": {},
   "outputs": [],
   "source": [
    "# serialize model to JSON\n",
    "model_json = model.to_json()\n",
    "with open(FILENAME,\"_model.json\", \"w\") as json_file:\n",
    "    json_file.write(model_json)\n",
    "# serialize weights to HDF5\n",
    "model.save_weights(FILENAME,\"_weights.h5\")\n",
    "print(\"Saved model to disk\")"
   ]
  },
  {
   "cell_type": "markdown",
   "metadata": {},
   "source": [
    "# loading up hdf5 file has (n.n sturcture as well as weights)"
   ]
  },
  {
   "cell_type": "code",
   "execution_count": null,
   "metadata": {},
   "outputs": [],
   "source": [
    "# .hd5f format     // new model stored as \"new MODEL_FILEPATH as .hd5f extention\" \n",
    "load_model('./models/rnn_cnn/weights-improvement-03-0.8379.hdf5') //to load it "
   ]
  },
  {
   "cell_type": "markdown",
   "metadata": {},
   "source": [
    "#  saving if it needs to be run on cloud"
   ]
  },
  {
   "cell_type": "code",
   "execution_count": null,
   "metadata": {},
   "outputs": [],
   "source": [
    "'''\n",
    "def export_test_train_data_to_h5(filename, X_train, X_test, y_train, y_test):\n",
    "    #filename has to be xyzw.h5 with extension\n",
    "    h5f = h5py.File(filename, 'w')\n",
    "    h5f.create_dataset('X', data=X)           #np.ndarry\n",
    "    h5f.create_dataset('y', data=np.array(y)) #\n",
    "    h5f.create_dataset('X_train', data=X_train)           #np.ndarry\n",
    "    h5f.create_dataset('y_train', data=np.array(y_train)) #pd df\n",
    "    h5f.create_dataset('X_test', data=X_test)\n",
    "    h5f.create_dataset('y_test', data=np.array(y_test))\n",
    "    # export weights of embedding_matrix incase of  \n",
    "    h5f.close()\n",
    "    print(\"file created\")\n",
    "\n",
    "filename = \"2_2_keras.h5\"\n",
    "export_test_train_data_to_h5(filename,X_train, X_test, y_train, y_test)\n",
    "\n",
    "\n",
    "'''"
   ]
  },
  {
   "cell_type": "markdown",
   "metadata": {},
   "source": [
    "# saving tokenizer instance"
   ]
  },
  {
   "cell_type": "code",
   "execution_count": null,
   "metadata": {},
   "outputs": [],
   "source": [
    "from keras.preprocessing.text import Tokenizer,text_to_word_sequence\n",
    "from keras.preprocessing import sequence\n",
    "import pickle\n",
    "\n",
    "# in training notebook [finally] after model is good to be deployed\n",
    "with open(FILENAME,'_tokenizer_instance.pickle', 'wb') as handle:\n",
    "    pickle.dump(tokenizer, handle, protocol=pickle.HIGHEST_PROTOCOL)\n",
    "\n",
    "\n",
    "print(type(prod_instance))"
   ]
  }
 ],
 "metadata": {
  "kernelspec": {
   "display_name": "Python [conda env:tf_gpu]",
   "language": "python",
   "name": "conda-env-tf_gpu-py"
  },
  "language_info": {
   "codemirror_mode": {
    "name": "ipython",
    "version": 3
   },
   "file_extension": ".py",
   "mimetype": "text/x-python",
   "name": "python",
   "nbconvert_exporter": "python",
   "pygments_lexer": "ipython3",
   "version": "3.6.8"
  }
 },
 "nbformat": 4,
 "nbformat_minor": 2
}
