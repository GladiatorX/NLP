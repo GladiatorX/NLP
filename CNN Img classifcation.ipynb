{
 "cells": [
  {
   "cell_type": "code",
   "execution_count": 1,
   "metadata": {},
   "outputs": [
    {
     "name": "stderr",
     "output_type": "stream",
     "text": [
      "Using TensorFlow backend.\n"
     ]
    }
   ],
   "source": [
    "from numpy.random import seed\n",
    "seed(101)\n",
    "from tensorflow import set_random_seed\n",
    "set_random_seed(101)\n",
    "\n",
    "import pandas as pd\n",
    "import numpy as np\n",
    "import keras\n",
    "from keras import backend as K\n",
    "from keras.layers.core import Dense, Dropout\n",
    "from keras.optimizers import Adam\n",
    "from keras.metrics import categorical_crossentropy\n",
    "from keras.preprocessing.image import ImageDataGenerator\n",
    "from keras.models import Model\n",
    "from keras.callbacks import EarlyStopping, ReduceLROnPlateau, ModelCheckpoint\n",
    "\n",
    "import os\n",
    "\n",
    "from sklearn.metrics import confusion_matrix\n",
    "from sklearn.model_selection import train_test_split\n",
    "import itertools\n",
    "import shutil\n",
    "import matplotlib.pyplot as plt\n",
    "%matplotlib inline\n"
   ]
  },
  {
   "cell_type": "code",
   "execution_count": 2,
   "metadata": {},
   "outputs": [],
   "source": [
    "base_dir = r'C:\\Users\\PURNA KOSSAMBE\\Desktop\\Project1\\base_dir'\n",
    "os.mkdir(base_dir)\n"
   ]
  },
  {
   "cell_type": "code",
   "execution_count": 3,
   "metadata": {},
   "outputs": [],
   "source": [
    "train_dir = os.path.join(base_dir, 'train_dir')\n",
    "os.mkdir(train_dir)\n",
    "val_dir = os.path.join(base_dir, 'val_dir')\n",
    "os.mkdir(val_dir)\n",
    "melanoma = os.path.join(train_dir, 'melanoma')\n",
    "os.mkdir(melanoma)\n",
    "notMelanoma = os.path.join(train_dir, 'notMelanoma')\n",
    "os.mkdir(notMelanoma)\n",
    "melanoma = os.path.join(val_dir, 'melanoma')\n",
    "os.mkdir(melanoma)\n",
    "notMelanoma = os.path.join(val_dir, 'notMelanoma')\n",
    "os.mkdir(notMelanoma)"
   ]
  },
  {
   "cell_type": "code",
   "execution_count": 5,
   "metadata": {},
   "outputs": [
    {
     "name": "stdout",
     "output_type": "stream",
     "text": [
      "12032\n",
      "12032\n"
     ]
    }
   ],
   "source": [
    "print(len(os.listdir(r'base_dir\\train_dir\\melanoma')))\n",
    "print(len(os.listdir(r'base_dir\\train_dir\\notMelanoma')))"
   ]
  },
  {
   "cell_type": "code",
   "execution_count": 7,
   "metadata": {},
   "outputs": [
    {
     "name": "stdout",
     "output_type": "stream",
     "text": [
      "516\n",
      "434\n"
     ]
    }
   ],
   "source": [
    "print(len(os.listdir(r'base_dir\\val_dir\\melanoma')))\n",
    "print(len(os.listdir(r'base_dir\\val_dir\\notMelanoma')))"
   ]
  },
  {
   "cell_type": "code",
   "execution_count": 8,
   "metadata": {},
   "outputs": [],
   "source": [
    "train_path = r'base_dir\\train_dir'\n",
    "valid_path = r'base_dir\\val_dir'\n",
    "\n",
    "num_train_samples = len(os.listdir(r'base_dir\\train_dir'))\n",
    "num_val_samples = len(os.listdir(r'base_dir\\val_dir'))\n",
    "train_batch_size = 10\n",
    "val_batch_size = 10\n",
    "image_size = 224\n",
    "\n",
    "train_steps = np.ceil(num_train_samples / train_batch_size)\n",
    "val_steps = np.ceil(num_val_samples / val_batch_size)"
   ]
  },
  {
   "cell_type": "code",
   "execution_count": 9,
   "metadata": {},
   "outputs": [
    {
     "name": "stdout",
     "output_type": "stream",
     "text": [
      "Found 24064 images belonging to 2 classes.\n",
      "Found 950 images belonging to 2 classes.\n",
      "Found 950 images belonging to 2 classes.\n"
     ]
    }
   ],
   "source": [
    "train_batches = ImageDataGenerator(\n",
    "    preprocessing_function= \\\n",
    "    keras.applications.mobilenet.preprocess_input).flow_from_directory(\n",
    "                                                    train_path,\n",
    "                                                    target_size=(image_size,image_size),\n",
    "                                                    batch_size=train_batch_size)\n",
    "valid_batches = ImageDataGenerator(\n",
    "    preprocessing_function= \\\n",
    "    keras.applications.mobilenet.preprocess_input).flow_from_directory(\n",
    "                                                    valid_path,\n",
    "                                                    target_size=(image_size,image_size),\n",
    "                                                    batch_size=val_batch_size)\n",
    "\n",
    "\n",
    "test_batches = ImageDataGenerator(\n",
    "    preprocessing_function= \\\n",
    "    keras.applications.mobilenet.preprocess_input).flow_from_directory(\n",
    "                                                    valid_path,\n",
    "                                                    target_size=(image_size,image_size),\n",
    "                                                    batch_size=val_batch_size,\n",
    "                                                    shuffle=False)"
   ]
  },
  {
   "cell_type": "code",
   "execution_count": 10,
   "metadata": {},
   "outputs": [
    {
     "name": "stdout",
     "output_type": "stream",
     "text": [
      "WARNING:tensorflow:From C:\\anaconda3\\lib\\site-packages\\tensorflow\\python\\framework\\op_def_library.py:263: colocate_with (from tensorflow.python.framework.ops) is deprecated and will be removed in a future version.\n",
      "Instructions for updating:\n",
      "Colocations handled automatically by placer.\n",
      "WARNING:tensorflow:From C:\\anaconda3\\lib\\site-packages\\keras\\backend\\tensorflow_backend.py:3445: calling dropout (from tensorflow.python.ops.nn_ops) with keep_prob is deprecated and will be removed in a future version.\n",
      "Instructions for updating:\n",
      "Please use `rate` instead of `keep_prob`. Rate should be set to `rate = 1 - keep_prob`.\n"
     ]
    }
   ],
   "source": [
    "mobile = keras.applications.mobilenet.MobileNet()"
   ]
  },
  {
   "cell_type": "code",
   "execution_count": 11,
   "metadata": {},
   "outputs": [
    {
     "name": "stdout",
     "output_type": "stream",
     "text": [
      "_________________________________________________________________\n",
      "Layer (type)                 Output Shape              Param #   \n",
      "=================================================================\n",
      "input_1 (InputLayer)         (None, 224, 224, 3)       0         \n",
      "_________________________________________________________________\n",
      "conv1_pad (ZeroPadding2D)    (None, 225, 225, 3)       0         \n",
      "_________________________________________________________________\n",
      "conv1 (Conv2D)               (None, 112, 112, 32)      864       \n",
      "_________________________________________________________________\n",
      "conv1_bn (BatchNormalization (None, 112, 112, 32)      128       \n",
      "_________________________________________________________________\n",
      "conv1_relu (ReLU)            (None, 112, 112, 32)      0         \n",
      "_________________________________________________________________\n",
      "conv_dw_1 (DepthwiseConv2D)  (None, 112, 112, 32)      288       \n",
      "_________________________________________________________________\n",
      "conv_dw_1_bn (BatchNormaliza (None, 112, 112, 32)      128       \n",
      "_________________________________________________________________\n",
      "conv_dw_1_relu (ReLU)        (None, 112, 112, 32)      0         \n",
      "_________________________________________________________________\n",
      "conv_pw_1 (Conv2D)           (None, 112, 112, 64)      2048      \n",
      "_________________________________________________________________\n",
      "conv_pw_1_bn (BatchNormaliza (None, 112, 112, 64)      256       \n",
      "_________________________________________________________________\n",
      "conv_pw_1_relu (ReLU)        (None, 112, 112, 64)      0         \n",
      "_________________________________________________________________\n",
      "conv_pad_2 (ZeroPadding2D)   (None, 113, 113, 64)      0         \n",
      "_________________________________________________________________\n",
      "conv_dw_2 (DepthwiseConv2D)  (None, 56, 56, 64)        576       \n",
      "_________________________________________________________________\n",
      "conv_dw_2_bn (BatchNormaliza (None, 56, 56, 64)        256       \n",
      "_________________________________________________________________\n",
      "conv_dw_2_relu (ReLU)        (None, 56, 56, 64)        0         \n",
      "_________________________________________________________________\n",
      "conv_pw_2 (Conv2D)           (None, 56, 56, 128)       8192      \n",
      "_________________________________________________________________\n",
      "conv_pw_2_bn (BatchNormaliza (None, 56, 56, 128)       512       \n",
      "_________________________________________________________________\n",
      "conv_pw_2_relu (ReLU)        (None, 56, 56, 128)       0         \n",
      "_________________________________________________________________\n",
      "conv_dw_3 (DepthwiseConv2D)  (None, 56, 56, 128)       1152      \n",
      "_________________________________________________________________\n",
      "conv_dw_3_bn (BatchNormaliza (None, 56, 56, 128)       512       \n",
      "_________________________________________________________________\n",
      "conv_dw_3_relu (ReLU)        (None, 56, 56, 128)       0         \n",
      "_________________________________________________________________\n",
      "conv_pw_3 (Conv2D)           (None, 56, 56, 128)       16384     \n",
      "_________________________________________________________________\n",
      "conv_pw_3_bn (BatchNormaliza (None, 56, 56, 128)       512       \n",
      "_________________________________________________________________\n",
      "conv_pw_3_relu (ReLU)        (None, 56, 56, 128)       0         \n",
      "_________________________________________________________________\n",
      "conv_pad_4 (ZeroPadding2D)   (None, 57, 57, 128)       0         \n",
      "_________________________________________________________________\n",
      "conv_dw_4 (DepthwiseConv2D)  (None, 28, 28, 128)       1152      \n",
      "_________________________________________________________________\n",
      "conv_dw_4_bn (BatchNormaliza (None, 28, 28, 128)       512       \n",
      "_________________________________________________________________\n",
      "conv_dw_4_relu (ReLU)        (None, 28, 28, 128)       0         \n",
      "_________________________________________________________________\n",
      "conv_pw_4 (Conv2D)           (None, 28, 28, 256)       32768     \n",
      "_________________________________________________________________\n",
      "conv_pw_4_bn (BatchNormaliza (None, 28, 28, 256)       1024      \n",
      "_________________________________________________________________\n",
      "conv_pw_4_relu (ReLU)        (None, 28, 28, 256)       0         \n",
      "_________________________________________________________________\n",
      "conv_dw_5 (DepthwiseConv2D)  (None, 28, 28, 256)       2304      \n",
      "_________________________________________________________________\n",
      "conv_dw_5_bn (BatchNormaliza (None, 28, 28, 256)       1024      \n",
      "_________________________________________________________________\n",
      "conv_dw_5_relu (ReLU)        (None, 28, 28, 256)       0         \n",
      "_________________________________________________________________\n",
      "conv_pw_5 (Conv2D)           (None, 28, 28, 256)       65536     \n",
      "_________________________________________________________________\n",
      "conv_pw_5_bn (BatchNormaliza (None, 28, 28, 256)       1024      \n",
      "_________________________________________________________________\n",
      "conv_pw_5_relu (ReLU)        (None, 28, 28, 256)       0         \n",
      "_________________________________________________________________\n",
      "conv_pad_6 (ZeroPadding2D)   (None, 29, 29, 256)       0         \n",
      "_________________________________________________________________\n",
      "conv_dw_6 (DepthwiseConv2D)  (None, 14, 14, 256)       2304      \n",
      "_________________________________________________________________\n",
      "conv_dw_6_bn (BatchNormaliza (None, 14, 14, 256)       1024      \n",
      "_________________________________________________________________\n",
      "conv_dw_6_relu (ReLU)        (None, 14, 14, 256)       0         \n",
      "_________________________________________________________________\n",
      "conv_pw_6 (Conv2D)           (None, 14, 14, 512)       131072    \n",
      "_________________________________________________________________\n",
      "conv_pw_6_bn (BatchNormaliza (None, 14, 14, 512)       2048      \n",
      "_________________________________________________________________\n",
      "conv_pw_6_relu (ReLU)        (None, 14, 14, 512)       0         \n",
      "_________________________________________________________________\n",
      "conv_dw_7 (DepthwiseConv2D)  (None, 14, 14, 512)       4608      \n",
      "_________________________________________________________________\n",
      "conv_dw_7_bn (BatchNormaliza (None, 14, 14, 512)       2048      \n",
      "_________________________________________________________________\n",
      "conv_dw_7_relu (ReLU)        (None, 14, 14, 512)       0         \n",
      "_________________________________________________________________\n",
      "conv_pw_7 (Conv2D)           (None, 14, 14, 512)       262144    \n",
      "_________________________________________________________________\n",
      "conv_pw_7_bn (BatchNormaliza (None, 14, 14, 512)       2048      \n",
      "_________________________________________________________________\n",
      "conv_pw_7_relu (ReLU)        (None, 14, 14, 512)       0         \n",
      "_________________________________________________________________\n",
      "conv_dw_8 (DepthwiseConv2D)  (None, 14, 14, 512)       4608      \n",
      "_________________________________________________________________\n",
      "conv_dw_8_bn (BatchNormaliza (None, 14, 14, 512)       2048      \n",
      "_________________________________________________________________\n",
      "conv_dw_8_relu (ReLU)        (None, 14, 14, 512)       0         \n",
      "_________________________________________________________________\n",
      "conv_pw_8 (Conv2D)           (None, 14, 14, 512)       262144    \n",
      "_________________________________________________________________\n",
      "conv_pw_8_bn (BatchNormaliza (None, 14, 14, 512)       2048      \n",
      "_________________________________________________________________\n",
      "conv_pw_8_relu (ReLU)        (None, 14, 14, 512)       0         \n",
      "_________________________________________________________________\n",
      "conv_dw_9 (DepthwiseConv2D)  (None, 14, 14, 512)       4608      \n",
      "_________________________________________________________________\n",
      "conv_dw_9_bn (BatchNormaliza (None, 14, 14, 512)       2048      \n",
      "_________________________________________________________________\n",
      "conv_dw_9_relu (ReLU)        (None, 14, 14, 512)       0         \n",
      "_________________________________________________________________\n",
      "conv_pw_9 (Conv2D)           (None, 14, 14, 512)       262144    \n",
      "_________________________________________________________________\n",
      "conv_pw_9_bn (BatchNormaliza (None, 14, 14, 512)       2048      \n",
      "_________________________________________________________________\n",
      "conv_pw_9_relu (ReLU)        (None, 14, 14, 512)       0         \n",
      "_________________________________________________________________\n",
      "conv_dw_10 (DepthwiseConv2D) (None, 14, 14, 512)       4608      \n",
      "_________________________________________________________________\n",
      "conv_dw_10_bn (BatchNormaliz (None, 14, 14, 512)       2048      \n",
      "_________________________________________________________________\n",
      "conv_dw_10_relu (ReLU)       (None, 14, 14, 512)       0         \n",
      "_________________________________________________________________\n",
      "conv_pw_10 (Conv2D)          (None, 14, 14, 512)       262144    \n",
      "_________________________________________________________________\n",
      "conv_pw_10_bn (BatchNormaliz (None, 14, 14, 512)       2048      \n",
      "_________________________________________________________________\n",
      "conv_pw_10_relu (ReLU)       (None, 14, 14, 512)       0         \n",
      "_________________________________________________________________\n",
      "conv_dw_11 (DepthwiseConv2D) (None, 14, 14, 512)       4608      \n",
      "_________________________________________________________________\n",
      "conv_dw_11_bn (BatchNormaliz (None, 14, 14, 512)       2048      \n",
      "_________________________________________________________________\n",
      "conv_dw_11_relu (ReLU)       (None, 14, 14, 512)       0         \n",
      "_________________________________________________________________\n",
      "conv_pw_11 (Conv2D)          (None, 14, 14, 512)       262144    \n",
      "_________________________________________________________________\n",
      "conv_pw_11_bn (BatchNormaliz (None, 14, 14, 512)       2048      \n",
      "_________________________________________________________________\n",
      "conv_pw_11_relu (ReLU)       (None, 14, 14, 512)       0         \n",
      "_________________________________________________________________\n",
      "conv_pad_12 (ZeroPadding2D)  (None, 15, 15, 512)       0         \n",
      "_________________________________________________________________\n",
      "conv_dw_12 (DepthwiseConv2D) (None, 7, 7, 512)         4608      \n",
      "_________________________________________________________________\n",
      "conv_dw_12_bn (BatchNormaliz (None, 7, 7, 512)         2048      \n",
      "_________________________________________________________________\n",
      "conv_dw_12_relu (ReLU)       (None, 7, 7, 512)         0         \n",
      "_________________________________________________________________\n",
      "conv_pw_12 (Conv2D)          (None, 7, 7, 1024)        524288    \n",
      "_________________________________________________________________\n",
      "conv_pw_12_bn (BatchNormaliz (None, 7, 7, 1024)        4096      \n",
      "_________________________________________________________________\n",
      "conv_pw_12_relu (ReLU)       (None, 7, 7, 1024)        0         \n",
      "_________________________________________________________________\n",
      "conv_dw_13 (DepthwiseConv2D) (None, 7, 7, 1024)        9216      \n",
      "_________________________________________________________________\n",
      "conv_dw_13_bn (BatchNormaliz (None, 7, 7, 1024)        4096      \n",
      "_________________________________________________________________\n",
      "conv_dw_13_relu (ReLU)       (None, 7, 7, 1024)        0         \n",
      "_________________________________________________________________\n",
      "conv_pw_13 (Conv2D)          (None, 7, 7, 1024)        1048576   \n",
      "_________________________________________________________________\n",
      "conv_pw_13_bn (BatchNormaliz (None, 7, 7, 1024)        4096      \n",
      "_________________________________________________________________\n",
      "conv_pw_13_relu (ReLU)       (None, 7, 7, 1024)        0         \n",
      "_________________________________________________________________\n",
      "global_average_pooling2d_1 ( (None, 1024)              0         \n",
      "_________________________________________________________________\n",
      "reshape_1 (Reshape)          (None, 1, 1, 1024)        0         \n",
      "_________________________________________________________________\n",
      "dropout (Dropout)            (None, 1, 1, 1024)        0         \n",
      "_________________________________________________________________\n",
      "conv_preds (Conv2D)          (None, 1, 1, 1000)        1025000   \n",
      "_________________________________________________________________\n",
      "act_softmax (Activation)     (None, 1, 1, 1000)        0         \n",
      "_________________________________________________________________\n",
      "reshape_2 (Reshape)          (None, 1000)              0         \n",
      "=================================================================\n",
      "Total params: 4,253,864\n",
      "Trainable params: 4,231,976\n",
      "Non-trainable params: 21,888\n",
      "_________________________________________________________________\n"
     ]
    }
   ],
   "source": [
    "mobile.summary()"
   ]
  },
  {
   "cell_type": "code",
   "execution_count": 64,
   "metadata": {},
   "outputs": [],
   "source": [
    "x = mobile.layers[-6].output\n",
    "\n",
    "\n",
    "\n",
    "x = Dropout(0.25)(x)\n",
    "predictions = Dense(2, activation='softmax')(x)\n",
    "\n",
    "\n",
    "model = Model(inputs=mobile.input, outputs=predictions)"
   ]
  },
  {
   "cell_type": "code",
   "execution_count": 65,
   "metadata": {},
   "outputs": [],
   "source": [
    "for layer in model.layers[:-48]:\n",
    "    layer.trainable = False"
   ]
  },
  {
   "cell_type": "code",
   "execution_count": 66,
   "metadata": {},
   "outputs": [],
   "source": [
    "from tensorflow.keras.metrics import categorical_accuracy\n",
    "model.compile(Adam(lr=0.01), loss='categorical_crossentropy', \n",
    "              metrics=[categorical_accuracy])"
   ]
  },
  {
   "cell_type": "code",
   "execution_count": 67,
   "metadata": {},
   "outputs": [
    {
     "name": "stdout",
     "output_type": "stream",
     "text": [
      "{'melanoma': 0, 'notMelanoma': 1}\n"
     ]
    }
   ],
   "source": [
    "print(valid_batches.class_indices)"
   ]
  },
  {
   "cell_type": "code",
   "execution_count": 68,
   "metadata": {},
   "outputs": [],
   "source": [
    "class_weights={\n",
    "    0: 1.0, \n",
    "    1: 1.0, \n",
    "    }"
   ]
  },
  {
   "cell_type": "code",
   "execution_count": 69,
   "metadata": {},
   "outputs": [
    {
     "name": "stdout",
     "output_type": "stream",
     "text": [
      "Epoch 1/20\n",
      "1/1 [==============================] - 87s 87s/step - loss: 1.4231 - categorical_accuracy: 0.3000 - val_loss: 6.4472 - val_categorical_accuracy: 0.6000\n",
      "\n",
      "Epoch 00001: val_categorical_accuracy improved from -inf to 0.60000, saving model to C:\\Users\\PURNA KOSSAMBE\\Desktop\\Project1\\modelraw.h5\n",
      "Epoch 2/20\n",
      "1/1 [==============================] - 10s 10s/step - loss: 4.8354 - categorical_accuracy: 0.7000 - val_loss: 11.2827 - val_categorical_accuracy: 0.3000\n",
      "\n",
      "Epoch 00002: val_categorical_accuracy did not improve from 0.60000\n",
      "Epoch 3/20\n",
      "1/1 [==============================] - 11s 11s/step - loss: 4.8354 - categorical_accuracy: 0.7000 - val_loss: 1.6118 - val_categorical_accuracy: 0.9000\n",
      "\n",
      "Epoch 00003: val_categorical_accuracy improved from 0.60000 to 0.90000, saving model to C:\\Users\\PURNA KOSSAMBE\\Desktop\\Project1\\modelraw.h5\n",
      "Epoch 4/20\n",
      "1/1 [==============================] - 10s 10s/step - loss: 9.6709 - categorical_accuracy: 0.4000 - val_loss: 9.6709 - val_categorical_accuracy: 0.4000\n",
      "\n",
      "Epoch 00004: val_categorical_accuracy did not improve from 0.90000\n",
      "Epoch 5/20\n",
      "1/1 [==============================] - 10s 10s/step - loss: 8.0590 - categorical_accuracy: 0.5000 - val_loss: 6.4472 - val_categorical_accuracy: 0.6000\n",
      "\n",
      "Epoch 00005: val_categorical_accuracy did not improve from 0.90000\n",
      "\n",
      "Epoch 00005: ReduceLROnPlateau reducing learning rate to 0.004999999888241291.\n",
      "Epoch 6/20\n",
      "1/1 [==============================] - 10s 10s/step - loss: 9.6709 - categorical_accuracy: 0.4000 - val_loss: 8.0590 - val_categorical_accuracy: 0.5000\n",
      "\n",
      "Epoch 00006: val_categorical_accuracy did not improve from 0.90000\n",
      "Epoch 7/20\n",
      "1/1 [==============================] - 10s 10s/step - loss: 8.0590 - categorical_accuracy: 0.5000 - val_loss: 6.4472 - val_categorical_accuracy: 0.6000\n",
      "\n",
      "Epoch 00007: val_categorical_accuracy did not improve from 0.90000\n",
      "\n",
      "Epoch 00007: ReduceLROnPlateau reducing learning rate to 0.0024999999441206455.\n",
      "Epoch 8/20\n",
      "1/1 [==============================] - 10s 10s/step - loss: 9.6709 - categorical_accuracy: 0.4000 - val_loss: 6.4472 - val_categorical_accuracy: 0.6000\n",
      "\n",
      "Epoch 00008: val_categorical_accuracy did not improve from 0.90000\n",
      "Epoch 9/20\n",
      "1/1 [==============================] - 10s 10s/step - loss: 4.8354 - categorical_accuracy: 0.7000 - val_loss: 11.2827 - val_categorical_accuracy: 0.3000\n",
      "\n",
      "Epoch 00009: val_categorical_accuracy did not improve from 0.90000\n",
      "\n",
      "Epoch 00009: ReduceLROnPlateau reducing learning rate to 0.0012499999720603228.\n",
      "Epoch 10/20\n",
      "1/1 [==============================] - 12s 12s/step - loss: 6.4472 - categorical_accuracy: 0.6000 - val_loss: 6.4472 - val_categorical_accuracy: 0.6000\n",
      "\n",
      "Epoch 00010: val_categorical_accuracy did not improve from 0.90000\n",
      "Epoch 11/20\n",
      "1/1 [==============================] - 10s 10s/step - loss: 8.0590 - categorical_accuracy: 0.5000 - val_loss: 4.8354 - val_categorical_accuracy: 0.7000\n",
      "\n",
      "Epoch 00011: val_categorical_accuracy did not improve from 0.90000\n",
      "\n",
      "Epoch 00011: ReduceLROnPlateau reducing learning rate to 0.0006249999860301614.\n",
      "Epoch 12/20\n",
      "1/1 [==============================] - 11s 11s/step - loss: 3.2236 - categorical_accuracy: 0.8000 - val_loss: 9.6709 - val_categorical_accuracy: 0.4000\n",
      "\n",
      "Epoch 00012: val_categorical_accuracy did not improve from 0.90000\n",
      "Epoch 13/20\n",
      "1/1 [==============================] - 11s 11s/step - loss: 9.6709 - categorical_accuracy: 0.4000 - val_loss: 6.4472 - val_categorical_accuracy: 0.6000\n",
      "\n",
      "Epoch 00013: val_categorical_accuracy did not improve from 0.90000\n",
      "\n",
      "Epoch 00013: ReduceLROnPlateau reducing learning rate to 0.0003124999930150807.\n",
      "Epoch 14/20\n",
      "1/1 [==============================] - 10s 10s/step - loss: 8.0590 - categorical_accuracy: 0.5000 - val_loss: 8.0590 - val_categorical_accuracy: 0.5000\n",
      "\n",
      "Epoch 00014: val_categorical_accuracy did not improve from 0.90000\n",
      "Epoch 15/20\n",
      "1/1 [==============================] - 11s 11s/step - loss: 3.2236 - categorical_accuracy: 0.8000 - val_loss: 8.0590 - val_categorical_accuracy: 0.5000\n",
      "\n",
      "Epoch 00015: val_categorical_accuracy did not improve from 0.90000\n",
      "\n",
      "Epoch 00015: ReduceLROnPlateau reducing learning rate to 0.00015624999650754035.\n",
      "Epoch 16/20\n",
      "1/1 [==============================] - 10s 10s/step - loss: 14.5063 - categorical_accuracy: 0.1000 - val_loss: 11.2827 - val_categorical_accuracy: 0.3000\n",
      "\n",
      "Epoch 00016: val_categorical_accuracy did not improve from 0.90000\n",
      "Epoch 17/20\n",
      "1/1 [==============================] - 10s 10s/step - loss: 8.0590 - categorical_accuracy: 0.5000 - val_loss: 6.4472 - val_categorical_accuracy: 0.6000\n",
      "\n",
      "Epoch 00017: val_categorical_accuracy did not improve from 0.90000\n",
      "\n",
      "Epoch 00017: ReduceLROnPlateau reducing learning rate to 7.812499825377017e-05.\n",
      "Epoch 18/20\n",
      "1/1 [==============================] - 10s 10s/step - loss: 6.4472 - categorical_accuracy: 0.6000 - val_loss: 8.0590 - val_categorical_accuracy: 0.5000\n",
      "\n",
      "Epoch 00018: val_categorical_accuracy did not improve from 0.90000\n",
      "Epoch 19/20\n",
      "1/1 [==============================] - 10s 10s/step - loss: 4.8354 - categorical_accuracy: 0.7000 - val_loss: 6.4472 - val_categorical_accuracy: 0.6000\n",
      "\n",
      "Epoch 00019: val_categorical_accuracy did not improve from 0.90000\n",
      "\n",
      "Epoch 00019: ReduceLROnPlateau reducing learning rate to 3.9062499126885086e-05.\n",
      "Epoch 20/20\n",
      "1/1 [==============================] - 11s 11s/step - loss: 11.2827 - categorical_accuracy: 0.3000 - val_loss: 6.4472 - val_categorical_accuracy: 0.6000\n",
      "\n",
      "Epoch 00020: val_categorical_accuracy did not improve from 0.90000\n"
     ]
    }
   ],
   "source": [
    "filepath = r\"\\Project1\\modelraw.h5\"\n",
    "\n",
    "checkpoint = ModelCheckpoint(filepath, monitor='val_categorical_accuracy', verbose=1, \n",
    "                             save_best_only=True, mode='max')\n",
    "\n",
    "reduce_lr = ReduceLROnPlateau(monitor='val_categorical_accuracy', factor=0.5, patience=2, \n",
    "                                   verbose=1, mode='max', min_lr=0.00001)\n",
    "                              \n",
    "                              \n",
    "callbacks_list = [checkpoint, reduce_lr]\n",
    "\n",
    "history = model.fit_generator(train_batches, steps_per_epoch=train_steps, \n",
    "                              class_weight=class_weights,\n",
    "                    validation_data=valid_batches,\n",
    "                    validation_steps=val_steps,\n",
    "                    epochs=20, verbose=1,\n",
    "                   callbacks=callbacks_list)"
   ]
  },
  {
   "cell_type": "code",
   "execution_count": 70,
   "metadata": {},
   "outputs": [
    {
     "data": {
      "text/plain": [
       "['loss', 'categorical_accuracy']"
      ]
     },
     "execution_count": 70,
     "metadata": {},
     "output_type": "execute_result"
    }
   ],
   "source": [
    "model.metrics_names"
   ]
  },
  {
   "cell_type": "code",
   "execution_count": 71,
   "metadata": {},
   "outputs": [
    {
     "name": "stdout",
     "output_type": "stream",
     "text": [
      "val_loss: 1.1920928955078125e-07\n",
      "val_cat_acc: 1.0\n"
     ]
    }
   ],
   "source": [
    "df_val=os.listdir(r'Cbase_dir\\val_dir')\n",
    "val_loss, val_cat_acc = \\\n",
    "model.evaluate_generator(test_batches, \n",
    "                        steps=len(df_val))\n",
    "\n",
    "print('val_loss:', val_loss)\n",
    "print('val_cat_acc:', val_cat_acc)\n"
   ]
  },
  {
   "cell_type": "code",
   "execution_count": 72,
   "metadata": {},
   "outputs": [
    {
     "data": {
      "text/plain": [
       "<Figure size 432x288 with 0 Axes>"
      ]
     },
     "execution_count": 72,
     "metadata": {},
     "output_type": "execute_result"
    },
    {
     "data": {
      "image/png": "[encoded data removed]",
      "text/plain": [
       "<Figure size 432x288 with 1 Axes>"
      ]
     },
     "metadata": {
      "needs_background": "light"
     },
     "output_type": "display_data"
    },
    {
     "data": {
      "image/png": "[encoded data removed]",
      "text/plain": [
       "<Figure size 432x288 with 1 Axes>"
      ]
     },
     "metadata": {
      "needs_background": "light"
     },
     "output_type": "display_data"
    },
    {
     "data": {
      "text/plain": [
       "<Figure size 432x288 with 0 Axes>"
      ]
     },
     "metadata": {},
     "output_type": "display_data"
    }
   ],
   "source": [
    "import matplotlib.pyplot as plt\n",
    "\n",
    "acc = history.history['categorical_accuracy']\n",
    "val_acc = history.history['val_categorical_accuracy']\n",
    "loss = history.history['loss']\n",
    "val_loss = history.history['val_loss']\n",
    "test_labels = test_batches.classesepochs = range(1, len(acc) + 1)\n",
    "\n",
    "plt.plot(epochs, loss, 'bo', label='Training loss')\n",
    "plt.plot(epochs, val_loss, 'b', label='Validation loss')\n",
    "plt.title('Training and validation loss')\n",
    "plt.legend()\n",
    "plt.figure()\n",
    "\n",
    "plt.plot(epochs, acc, 'bo', label='Training cat acc')\n",
    "plt.plot(epochs, val_acc, 'b', label='Validation cat acc')\n",
    "plt.title('Training and validation cat accuracy')\n",
    "plt.legend()\n",
    "plt.figure()\n",
    "\n"
   ]
  },
  {
   "cell_type": "code",
   "execution_count": 74,
   "metadata": {},
   "outputs": [],
   "source": [
    "test_labels = test_batches.classes"
   ]
  },
  {
   "cell_type": "code",
   "execution_count": 76,
   "metadata": {},
   "outputs": [],
   "source": [
    "model.save(r'Cmodels\\melnotmel.model')"
   ]
  },
  {
   "cell_type": "code",
   "execution_count": 77,
   "metadata": {},
   "outputs": [],
   "source": [
    "from keras import backend as K\n",
    "K.set_learning_phase(0)"
   ]
  },
  {
   "cell_type": "code",
   "execution_count": 79,
   "metadata": {},
   "outputs": [
    {
     "name": "stdout",
     "output_type": "stream",
     "text": [
      "[<tf.Tensor 'dense_2_1/Softmax:0' shape=(?, 2) dtype=float32>]\n",
      "[<tf.Tensor 'input_1_4:0' shape=(?, 224, 224, 3) dtype=float32>]\n"
     ]
    }
   ],
   "source": [
    "from keras.models import load_model\n",
    "model= load_model(r'Project1\\modelraw.h5')\n",
    "print (model.outputs)\n",
    "print(model.inputs)"
   ]
  },
  {
   "cell_type": "code",
   "execution_count": 80,
   "metadata": {},
   "outputs": [
    {
     "ename": "AttributeError",
     "evalue": "'str' object has no attribute 'outputs'",
     "output_type": "error",
     "traceback": [
      "\u001b[1;31m---------------------------------------------------------------------------\u001b[0m",
      "\u001b[1;31mAttributeError\u001b[0m                            Traceback (most recent call last)",
      "\u001b[1;32m<ipython-input-80-2ce6024d2d04>\u001b[0m in \u001b[0;36m<module>\u001b[1;34m\u001b[0m\n\u001b[0;32m     16\u001b[0m \u001b[1;32mfrom\u001b[0m \u001b[0mkeras\u001b[0m \u001b[1;32mimport\u001b[0m \u001b[0mbackend\u001b[0m \u001b[1;32mas\u001b[0m \u001b[0mK\u001b[0m\u001b[1;33m\u001b[0m\u001b[1;33m\u001b[0m\u001b[0m\n\u001b[0;32m     17\u001b[0m \u001b[0mmodel\u001b[0m\u001b[1;33m=\u001b[0m \u001b[1;34mr\"C:\\Users\\PURNA KOSSAMBE\\Desktop\\Project1\\modelraw.h5\"\u001b[0m\u001b[1;33m\u001b[0m\u001b[1;33m\u001b[0m\u001b[0m\n\u001b[1;32m---> 18\u001b[1;33m \u001b[0mfrozen_graph\u001b[0m\u001b[1;33m=\u001b[0m \u001b[0mfreeze_session\u001b[0m\u001b[1;33m(\u001b[0m\u001b[0mK\u001b[0m\u001b[1;33m.\u001b[0m\u001b[0mget_session\u001b[0m\u001b[1;33m(\u001b[0m\u001b[1;33m)\u001b[0m\u001b[1;33m,\u001b[0m\u001b[0moutput_names\u001b[0m\u001b[1;33m=\u001b[0m \u001b[1;33m[\u001b[0m\u001b[0mout\u001b[0m\u001b[1;33m.\u001b[0m\u001b[0mop\u001b[0m\u001b[1;33m.\u001b[0m\u001b[0mname\u001b[0m \u001b[1;32mfor\u001b[0m \u001b[0mout\u001b[0m \u001b[1;32min\u001b[0m \u001b[0mmodel\u001b[0m\u001b[1;33m.\u001b[0m\u001b[0moutputs\u001b[0m\u001b[1;33m]\u001b[0m\u001b[1;33m)\u001b[0m\u001b[1;33m\u001b[0m\u001b[1;33m\u001b[0m\u001b[0m\n\u001b[0m\u001b[0;32m     19\u001b[0m \u001b[0mtf\u001b[0m\u001b[1;33m.\u001b[0m\u001b[0mtrain\u001b[0m\u001b[1;33m.\u001b[0m\u001b[0mwrite_graph\u001b[0m\u001b[1;33m(\u001b[0m\u001b[0mfrozen_graph\u001b[0m\u001b[1;33m,\u001b[0m\u001b[0mwkdir\u001b[0m\u001b[1;33m,\u001b[0m\u001b[0mpb_filename\u001b[0m\u001b[1;33m,\u001b[0m \u001b[0mas_text\u001b[0m\u001b[1;33m=\u001b[0m \u001b[1;32mFalse\u001b[0m\u001b[1;33m)\u001b[0m\u001b[1;33m\u001b[0m\u001b[1;33m\u001b[0m\u001b[0m\n",
      "\u001b[1;31mAttributeError\u001b[0m: 'str' object has no attribute 'outputs'"
     ]
    }
   ],
   "source": [
    "from keras import backend as K\n",
    "import tensorflow as tf\n",
    "def freeze_session(session, keep_var_names=None, output_names=None, clear_devices=True):\n",
    "    from tensorflow.python.framework.graph_util import convert_variables_to_constants\n",
    "    graph=session.graph\n",
    "    with graph.as_default():\n",
    "        freeze_var_names = list(set(v.op.name for v in tf.global_variables()).difference(keep_var_names or []))\n",
    "        output_names = output_names or []\n",
    "        output_names+= [v.op.name for v in tf.global_variables()]\n",
    "        input_graph_def= graph.as_graph_def()\n",
    "        if clear_devices:\n",
    "            for node in input_graph_def.node:\n",
    "                node.device=\"\"\n",
    "        frozen_graph=convert_variables_to_constants(session,input_graph_defination,output_names,freeze_var_names)\n",
    "        return frozen_graph\n",
    "from keras import backend as K\n",
    "model= r\"Desktop\\Project1\\modelraw.h5\"\n",
    "frozen_graph= freeze_session(K.get_session(),output_names= [out.op.name for out in model.outputs])\n",
    "tf.train.write_graph(frozen_graph,wkdir,pb_filename, as_text= False)\n"
   ]
  },
  {
   "cell_type": "code",
   "execution_count": null,
   "metadata": {},
   "outputs": [],
   "source": []
  }
 ],
 "metadata": {
  "kernelspec": {
   "display_name": "Python 3",
   "language": "python",
   "name": "python3"
  },
  "language_info": {
   "codemirror_mode": {
    "name": "ipython",
    "version": 3
   },
   "file_extension": ".py",
   "mimetype": "text/x-python",
   "name": "python",
   "nbconvert_exporter": "python",
   "pygments_lexer": "ipython3",
   "version": "3.6.8"
  }
 },
 "nbformat": 4,
 "nbformat_minor": 2
}
